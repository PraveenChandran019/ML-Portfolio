{
 "cells": [
  {
   "cell_type": "code",
   "execution_count": 1,
   "id": "5d8c47c6-19d2-4c80-8382-286ccf044ec9",
   "metadata": {},
   "outputs": [],
   "source": [
    "import pandas as pd\n",
    "import matplotlib.pyplot as plt\n",
    "import numpy as np\n",
    "import seaborn as sns"
   ]
  },
  {
   "cell_type": "code",
   "execution_count": 2,
   "id": "4809cee6-85b4-4f52-9397-61a0a1224a32",
   "metadata": {},
   "outputs": [],
   "source": [
    "train = pd.read_csv(r\"D:\\Praveen_Chandran\\ml problerm\\train.csv\")"
   ]
  },
  {
   "cell_type": "code",
   "execution_count": 3,
   "id": "87644a6b-b5dc-421a-8c98-68d4af8eb031",
   "metadata": {},
   "outputs": [
    {
     "data": {
      "text/html": [
       "<div>\n",
       "<style scoped>\n",
       "    .dataframe tbody tr th:only-of-type {\n",
       "        vertical-align: middle;\n",
       "    }\n",
       "\n",
       "    .dataframe tbody tr th {\n",
       "        vertical-align: top;\n",
       "    }\n",
       "\n",
       "    .dataframe thead th {\n",
       "        text-align: right;\n",
       "    }\n",
       "</style>\n",
       "<table border=\"1\" class=\"dataframe\">\n",
       "  <thead>\n",
       "    <tr style=\"text-align: right;\">\n",
       "      <th></th>\n",
       "      <th>ID</th>\n",
       "      <th>datetime</th>\n",
       "      <th>siteid</th>\n",
       "      <th>offerid</th>\n",
       "      <th>category</th>\n",
       "      <th>merchant</th>\n",
       "      <th>countrycode</th>\n",
       "      <th>browserid</th>\n",
       "      <th>devid</th>\n",
       "      <th>click</th>\n",
       "    </tr>\n",
       "  </thead>\n",
       "  <tbody>\n",
       "    <tr>\n",
       "      <th>0</th>\n",
       "      <td>IDsrk7SoW</td>\n",
       "      <td>2017-01-14 09:42:09</td>\n",
       "      <td>4709696.0</td>\n",
       "      <td>887235</td>\n",
       "      <td>17714</td>\n",
       "      <td>20301556</td>\n",
       "      <td>e</td>\n",
       "      <td>Firefox</td>\n",
       "      <td>NaN</td>\n",
       "      <td>0</td>\n",
       "    </tr>\n",
       "    <tr>\n",
       "      <th>1</th>\n",
       "      <td>IDmMSxHur</td>\n",
       "      <td>2017-01-18 17:50:53</td>\n",
       "      <td>5189467.0</td>\n",
       "      <td>178235</td>\n",
       "      <td>21407</td>\n",
       "      <td>9434818</td>\n",
       "      <td>b</td>\n",
       "      <td>Mozilla Firefox</td>\n",
       "      <td>Desktop</td>\n",
       "      <td>0</td>\n",
       "    </tr>\n",
       "    <tr>\n",
       "      <th>2</th>\n",
       "      <td>IDVLNN0Ut</td>\n",
       "      <td>2017-01-11 12:46:49</td>\n",
       "      <td>98480.0</td>\n",
       "      <td>518539</td>\n",
       "      <td>25085</td>\n",
       "      <td>2050923</td>\n",
       "      <td>a</td>\n",
       "      <td>Edge</td>\n",
       "      <td>NaN</td>\n",
       "      <td>0</td>\n",
       "    </tr>\n",
       "    <tr>\n",
       "      <th>3</th>\n",
       "      <td>ID32T6wwQ</td>\n",
       "      <td>2017-01-17 10:18:43</td>\n",
       "      <td>8896401.0</td>\n",
       "      <td>390352</td>\n",
       "      <td>40339</td>\n",
       "      <td>72089744</td>\n",
       "      <td>c</td>\n",
       "      <td>Firefox</td>\n",
       "      <td>Mobile</td>\n",
       "      <td>0</td>\n",
       "    </tr>\n",
       "    <tr>\n",
       "      <th>4</th>\n",
       "      <td>IDqUShzMg</td>\n",
       "      <td>2017-01-14 16:02:33</td>\n",
       "      <td>5635120.0</td>\n",
       "      <td>472937</td>\n",
       "      <td>12052</td>\n",
       "      <td>39507200</td>\n",
       "      <td>d</td>\n",
       "      <td>Mozilla Firefox</td>\n",
       "      <td>Desktop</td>\n",
       "      <td>0</td>\n",
       "    </tr>\n",
       "  </tbody>\n",
       "</table>\n",
       "</div>"
      ],
      "text/plain": [
       "          ID             datetime     siteid  offerid  category  merchant  \\\n",
       "0  IDsrk7SoW  2017-01-14 09:42:09  4709696.0   887235     17714  20301556   \n",
       "1  IDmMSxHur  2017-01-18 17:50:53  5189467.0   178235     21407   9434818   \n",
       "2  IDVLNN0Ut  2017-01-11 12:46:49    98480.0   518539     25085   2050923   \n",
       "3  ID32T6wwQ  2017-01-17 10:18:43  8896401.0   390352     40339  72089744   \n",
       "4  IDqUShzMg  2017-01-14 16:02:33  5635120.0   472937     12052  39507200   \n",
       "\n",
       "  countrycode        browserid    devid  click  \n",
       "0           e          Firefox      NaN      0  \n",
       "1           b  Mozilla Firefox  Desktop      0  \n",
       "2           a             Edge      NaN      0  \n",
       "3           c          Firefox   Mobile      0  \n",
       "4           d  Mozilla Firefox  Desktop      0  "
      ]
     },
     "execution_count": 3,
     "metadata": {},
     "output_type": "execute_result"
    }
   ],
   "source": [
    "train.head()"
   ]
  },
  {
   "cell_type": "markdown",
   "id": "47fafe5f-9b50-4377-a69e-2290d9c8f5c4",
   "metadata": {},
   "source": [
    "## some cleaning\n"
   ]
  },
  {
   "cell_type": "code",
   "execution_count": 4,
   "id": "a6836f1a-34a7-4b11-85a2-f8560f13f428",
   "metadata": {},
   "outputs": [
    {
     "data": {
      "text/plain": [
       "array([nan, 'Desktop', 'Mobile', 'Tablet'], dtype=object)"
      ]
     },
     "execution_count": 4,
     "metadata": {},
     "output_type": "execute_result"
    }
   ],
   "source": [
    "train['devid'].unique()"
   ]
  },
  {
   "cell_type": "code",
   "execution_count": 5,
   "id": "7a8aade1-d2aa-4cd8-8322-b1d64ae27d45",
   "metadata": {},
   "outputs": [],
   "source": [
    "train['browserid'] = train['browserid'].str.replace('Google Chrome','Chrome')"
   ]
  },
  {
   "cell_type": "code",
   "execution_count": 6,
   "id": "6b3aeb6c-52ec-4690-9ad7-28e0923db7d0",
   "metadata": {},
   "outputs": [],
   "source": [
    "train['browserid'] = train['browserid'].str.replace('Mozilla Firefox', 'Firefox')"
   ]
  },
  {
   "cell_type": "code",
   "execution_count": 7,
   "id": "690895a3-728a-4bb3-b19d-bb8a16660b5f",
   "metadata": {},
   "outputs": [],
   "source": [
    "train['browserid']= train['browserid'].str.replace('Mozilla', 'Firefox')"
   ]
  },
  {
   "cell_type": "code",
   "execution_count": 8,
   "id": "b98331b4-49c0-4708-a7d2-64603c8a68d3",
   "metadata": {},
   "outputs": [],
   "source": [
    "train['browserid']= train['browserid'].str.replace('InternetExplorer', 'IE')"
   ]
  },
  {
   "cell_type": "code",
   "execution_count": 9,
   "id": "1b1ef140-aac7-465f-92e0-cb0e660179e5",
   "metadata": {},
   "outputs": [],
   "source": [
    "train['browserid']= train['browserid'].str.replace('Internet Explorer', 'IE')"
   ]
  },
  {
   "cell_type": "code",
   "execution_count": 10,
   "id": "08f20c13-5eeb-4683-9562-6f97b773cbc3",
   "metadata": {},
   "outputs": [
    {
     "data": {
      "text/plain": [
       "array(['Firefox', 'Edge', 'Chrome', nan, 'IE', 'Opera', 'Safari'],\n",
       "      dtype=object)"
      ]
     },
     "execution_count": 10,
     "metadata": {},
     "output_type": "execute_result"
    }
   ],
   "source": [
    "train['browserid'].unique()"
   ]
  },
  {
   "cell_type": "code",
   "execution_count": null,
   "id": "e8da3dcc-ee82-437b-97cb-5c4c5173464c",
   "metadata": {},
   "outputs": [],
   "source": []
  },
  {
   "cell_type": "code",
   "execution_count": 11,
   "id": "f4746689-a427-434e-a3d3-888c2b91a407",
   "metadata": {},
   "outputs": [],
   "source": [
    "train['device'] = train['devid']"
   ]
  },
  {
   "cell_type": "code",
   "execution_count": 12,
   "id": "32a88b5a-c9ec-43b9-9970-0ef17610a9a1",
   "metadata": {},
   "outputs": [],
   "source": [
    "train.drop('devid',axis = 'columns',inplace = True)"
   ]
  },
  {
   "cell_type": "code",
   "execution_count": 13,
   "id": "34d0c94f-5542-4c27-9d72-a0a7ce5d7f02",
   "metadata": {},
   "outputs": [
    {
     "data": {
      "text/plain": [
       "array([nan, 'Desktop', 'Mobile', 'Tablet'], dtype=object)"
      ]
     },
     "execution_count": 13,
     "metadata": {},
     "output_type": "execute_result"
    }
   ],
   "source": [
    "train['device'].unique()"
   ]
  },
  {
   "cell_type": "code",
   "execution_count": 14,
   "id": "7ddf35d4-a6fb-4812-bf7d-72005fa46dcc",
   "metadata": {},
   "outputs": [],
   "source": [
    "train['datetime'] = pd.to_datetime(train['datetime'])"
   ]
  },
  {
   "cell_type": "code",
   "execution_count": 15,
   "id": "38723f68-fdbf-4645-8648-7f9572226f09",
   "metadata": {},
   "outputs": [],
   "source": [
    "train['hour'] = train['datetime'].dt.hour\n",
    "train['minutes'] = train['datetime'].dt.minute\n",
    "train['seconds'] =  train['datetime'].dt.second\n",
    "train['day_of_week'] = train['datetime'].dt.dayofweek\n",
    "train['week_end'] = train['day_of_week'].apply(lambda x:'weekend' if x==0 or x==6 else 'weekday')"
   ]
  },
  {
   "cell_type": "code",
   "execution_count": 16,
   "id": "dd1655f4-75f0-48b0-b53c-47a86975fbac",
   "metadata": {},
   "outputs": [],
   "source": [
    "def hour_status(hour):\n",
    "    if  5 <= hour < 12:\n",
    "        return 'morning'\n",
    "    elif 12 <= hour < 17:\n",
    "        return 'afternoon'\n",
    "    elif 17 <= hour < 21:\n",
    "        return 'evening'\n",
    "    else:\n",
    "        return 'night'"
   ]
  },
  {
   "cell_type": "code",
   "execution_count": 17,
   "id": "53eb69d1-896d-4e5c-9aca-519e9262472d",
   "metadata": {},
   "outputs": [],
   "source": [
    "train['hour_status'] = train['hour'].apply(lambda x: hour_status(x))"
   ]
  },
  {
   "cell_type": "code",
   "execution_count": 18,
   "id": "16f90c62-ce82-4b60-8b69-f91baffb24f1",
   "metadata": {},
   "outputs": [],
   "source": [
    "train.drop('datetime',axis = 'columns',inplace = True)"
   ]
  },
  {
   "cell_type": "code",
   "execution_count": null,
   "id": "02305d41-e974-482e-9c38-444fa60298e3",
   "metadata": {},
   "outputs": [],
   "source": [
    "\n"
   ]
  },
  {
   "cell_type": "code",
   "execution_count": null,
   "id": "eceef80b-327c-44de-93f4-95ec222626bb",
   "metadata": {},
   "outputs": [],
   "source": []
  },
  {
   "cell_type": "code",
   "execution_count": null,
   "id": "f56328bd-6910-40a3-bdf9-c7b4b306cb04",
   "metadata": {},
   "outputs": [],
   "source": []
  },
  {
   "cell_type": "code",
   "execution_count": null,
   "id": "67ba677e-b784-4372-8af8-4a053c82a906",
   "metadata": {},
   "outputs": [],
   "source": []
  },
  {
   "cell_type": "code",
   "execution_count": 19,
   "id": "b2256e27-8e66-469e-b27f-8667d37a663d",
   "metadata": {},
   "outputs": [
    {
     "data": {
      "text/html": [
       "<div>\n",
       "<style scoped>\n",
       "    .dataframe tbody tr th:only-of-type {\n",
       "        vertical-align: middle;\n",
       "    }\n",
       "\n",
       "    .dataframe tbody tr th {\n",
       "        vertical-align: top;\n",
       "    }\n",
       "\n",
       "    .dataframe thead th {\n",
       "        text-align: right;\n",
       "    }\n",
       "</style>\n",
       "<table border=\"1\" class=\"dataframe\">\n",
       "  <thead>\n",
       "    <tr style=\"text-align: right;\">\n",
       "      <th></th>\n",
       "      <th>ID</th>\n",
       "      <th>siteid</th>\n",
       "      <th>offerid</th>\n",
       "      <th>category</th>\n",
       "      <th>merchant</th>\n",
       "      <th>countrycode</th>\n",
       "      <th>browserid</th>\n",
       "      <th>click</th>\n",
       "      <th>device</th>\n",
       "      <th>hour</th>\n",
       "      <th>minutes</th>\n",
       "      <th>seconds</th>\n",
       "      <th>day_of_week</th>\n",
       "      <th>week_end</th>\n",
       "      <th>hour_status</th>\n",
       "    </tr>\n",
       "  </thead>\n",
       "  <tbody>\n",
       "    <tr>\n",
       "      <th>0</th>\n",
       "      <td>IDsrk7SoW</td>\n",
       "      <td>4709696.0</td>\n",
       "      <td>887235</td>\n",
       "      <td>17714</td>\n",
       "      <td>20301556</td>\n",
       "      <td>e</td>\n",
       "      <td>Firefox</td>\n",
       "      <td>0</td>\n",
       "      <td>NaN</td>\n",
       "      <td>9</td>\n",
       "      <td>42</td>\n",
       "      <td>9</td>\n",
       "      <td>5</td>\n",
       "      <td>weekday</td>\n",
       "      <td>morning</td>\n",
       "    </tr>\n",
       "    <tr>\n",
       "      <th>1</th>\n",
       "      <td>IDmMSxHur</td>\n",
       "      <td>5189467.0</td>\n",
       "      <td>178235</td>\n",
       "      <td>21407</td>\n",
       "      <td>9434818</td>\n",
       "      <td>b</td>\n",
       "      <td>Firefox</td>\n",
       "      <td>0</td>\n",
       "      <td>Desktop</td>\n",
       "      <td>17</td>\n",
       "      <td>50</td>\n",
       "      <td>53</td>\n",
       "      <td>2</td>\n",
       "      <td>weekday</td>\n",
       "      <td>evening</td>\n",
       "    </tr>\n",
       "    <tr>\n",
       "      <th>2</th>\n",
       "      <td>IDVLNN0Ut</td>\n",
       "      <td>98480.0</td>\n",
       "      <td>518539</td>\n",
       "      <td>25085</td>\n",
       "      <td>2050923</td>\n",
       "      <td>a</td>\n",
       "      <td>Edge</td>\n",
       "      <td>0</td>\n",
       "      <td>NaN</td>\n",
       "      <td>12</td>\n",
       "      <td>46</td>\n",
       "      <td>49</td>\n",
       "      <td>2</td>\n",
       "      <td>weekday</td>\n",
       "      <td>afternoon</td>\n",
       "    </tr>\n",
       "    <tr>\n",
       "      <th>3</th>\n",
       "      <td>ID32T6wwQ</td>\n",
       "      <td>8896401.0</td>\n",
       "      <td>390352</td>\n",
       "      <td>40339</td>\n",
       "      <td>72089744</td>\n",
       "      <td>c</td>\n",
       "      <td>Firefox</td>\n",
       "      <td>0</td>\n",
       "      <td>Mobile</td>\n",
       "      <td>10</td>\n",
       "      <td>18</td>\n",
       "      <td>43</td>\n",
       "      <td>1</td>\n",
       "      <td>weekday</td>\n",
       "      <td>morning</td>\n",
       "    </tr>\n",
       "    <tr>\n",
       "      <th>4</th>\n",
       "      <td>IDqUShzMg</td>\n",
       "      <td>5635120.0</td>\n",
       "      <td>472937</td>\n",
       "      <td>12052</td>\n",
       "      <td>39507200</td>\n",
       "      <td>d</td>\n",
       "      <td>Firefox</td>\n",
       "      <td>0</td>\n",
       "      <td>Desktop</td>\n",
       "      <td>16</td>\n",
       "      <td>2</td>\n",
       "      <td>33</td>\n",
       "      <td>5</td>\n",
       "      <td>weekday</td>\n",
       "      <td>afternoon</td>\n",
       "    </tr>\n",
       "  </tbody>\n",
       "</table>\n",
       "</div>"
      ],
      "text/plain": [
       "          ID     siteid  offerid  category  merchant countrycode browserid  \\\n",
       "0  IDsrk7SoW  4709696.0   887235     17714  20301556           e   Firefox   \n",
       "1  IDmMSxHur  5189467.0   178235     21407   9434818           b   Firefox   \n",
       "2  IDVLNN0Ut    98480.0   518539     25085   2050923           a      Edge   \n",
       "3  ID32T6wwQ  8896401.0   390352     40339  72089744           c   Firefox   \n",
       "4  IDqUShzMg  5635120.0   472937     12052  39507200           d   Firefox   \n",
       "\n",
       "   click   device  hour  minutes  seconds  day_of_week week_end hour_status  \n",
       "0      0      NaN     9       42        9            5  weekday     morning  \n",
       "1      0  Desktop    17       50       53            2  weekday     evening  \n",
       "2      0      NaN    12       46       49            2  weekday   afternoon  \n",
       "3      0   Mobile    10       18       43            1  weekday     morning  \n",
       "4      0  Desktop    16        2       33            5  weekday   afternoon  "
      ]
     },
     "execution_count": 19,
     "metadata": {},
     "output_type": "execute_result"
    }
   ],
   "source": [
    "train.head()"
   ]
  },
  {
   "cell_type": "code",
   "execution_count": 20,
   "id": "156371c9-028f-486d-ba21-a688024f2038",
   "metadata": {},
   "outputs": [
    {
     "data": {
      "text/plain": [
       "array([ 9, 17, 12, 10, 16, 13,  5, 11,  3, 14, 21, 15,  6, 19,  2, 18,  7,\n",
       "        8,  4, 23,  0,  1, 20, 22])"
      ]
     },
     "execution_count": 20,
     "metadata": {},
     "output_type": "execute_result"
    }
   ],
   "source": [
    "train['hour'].unique()"
   ]
  },
  {
   "cell_type": "code",
   "execution_count": null,
   "id": "e2898f71-193e-4107-bf93-d20d273689ce",
   "metadata": {},
   "outputs": [],
   "source": []
  },
  {
   "cell_type": "code",
   "execution_count": null,
   "id": "b5b209b1-5325-4e5d-b8f8-3cf052ee86b5",
   "metadata": {},
   "outputs": [],
   "source": []
  },
  {
   "cell_type": "markdown",
   "id": "b1a68676-f442-44fc-8cb3-da2b094b5f7d",
   "metadata": {},
   "source": [
    "### EDA"
   ]
  },
  {
   "cell_type": "code",
   "execution_count": null,
   "id": "68c91db6-d3d6-4ebf-8bc8-d8b4cb2d0a48",
   "metadata": {},
   "outputs": [],
   "source": []
  },
  {
   "cell_type": "code",
   "execution_count": 21,
   "id": "87b6548b-578d-4c47-bb79-3d10e2d3ae32",
   "metadata": {},
   "outputs": [],
   "source": [
    "numerical_feature = [feature for feature in train.columns if train[feature].dtypes !='O']"
   ]
  },
  {
   "cell_type": "code",
   "execution_count": 22,
   "id": "b6d81660-565d-4ffd-a186-13d248eeea15",
   "metadata": {},
   "outputs": [],
   "source": [
    "categorical_feature = [feature for feature in train.columns if train[feature].dtypes == 'O']"
   ]
  },
  {
   "cell_type": "code",
   "execution_count": 23,
   "id": "18bb1681-66aa-46f6-afd9-053679344dd5",
   "metadata": {},
   "outputs": [],
   "source": [
    "date_features = ['hour','minutes','seconds','day_of_week','week_end','hour_status']"
   ]
  },
  {
   "cell_type": "code",
   "execution_count": 24,
   "id": "5898fb5f-27a0-4184-8691-6b98ba356ddb",
   "metadata": {},
   "outputs": [],
   "source": [
    "timeseries_feature = [feature for feature in train.columns if feature in date_features]"
   ]
  },
  {
   "cell_type": "code",
   "execution_count": 25,
   "id": "a182b5ae-fd55-4735-a147-5054b9bbe80e",
   "metadata": {},
   "outputs": [
    {
     "data": {
      "image/png": "[encoded data removed]",
      "text/plain": [
       "<Figure size 640x480 with 1 Axes>"
      ]
     },
     "metadata": {},
     "output_type": "display_data"
    },
    {
     "data": {
      "image/png": "[encoded data removed]",
      "text/plain": [
       "<Figure size 640x480 with 1 Axes>"
      ]
     },
     "metadata": {},
     "output_type": "display_data"
    },
    {
     "data": {
      "image/png": "[encoded data removed]",
      "text/plain": [
       "<Figure size 640x480 with 1 Axes>"
      ]
     },
     "metadata": {},
     "output_type": "display_data"
    },
    {
     "data": {
      "image/png": "[encoded data removed]",
      "text/plain": [
       "<Figure size 640x480 with 1 Axes>"
      ]
     },
     "metadata": {},
     "output_type": "display_data"
    },
    {
     "data": {
      "image/png": "[encoded data removed]",
      "text/plain": [
       "<Figure size 640x480 with 1 Axes>"
      ]
     },
     "metadata": {},
     "output_type": "display_data"
    },
    {
     "data": {
      "image/png": "[encoded data removed]",
      "text/plain": [
       "<Figure size 640x480 with 1 Axes>"
      ]
     },
     "metadata": {},
     "output_type": "display_data"
    }
   ],
   "source": [
    "for i in train[timeseries_feature]:\n",
    "    train.groupby(i)['click'].sum().plot.bar()\n",
    "    plt.title(i)\n",
    "    plt.xlabel(i)\n",
    "    plt.ylabel('no of clicks')\n",
    "    plt.show()"
   ]
  },
  {
   "cell_type": "code",
   "execution_count": 26,
   "id": "ceafd9e8-4873-4cbb-914d-8da75a6ecb23",
   "metadata": {},
   "outputs": [
    {
     "data": {
      "text/plain": [
       "week_end\n",
       "weekday    359606\n",
       "weekend     77608\n",
       "Name: click, dtype: int64"
      ]
     },
     "execution_count": 26,
     "metadata": {},
     "output_type": "execute_result"
    }
   ],
   "source": [
    "train.groupby('week_end')['click'].sum()"
   ]
  },
  {
   "cell_type": "code",
   "execution_count": 27,
   "id": "7c6bd396-2a73-4546-934a-598fbd61fa8b",
   "metadata": {},
   "outputs": [
    {
     "data": {
      "text/plain": [
       "<Axes: xlabel='browserid'>"
      ]
     },
     "execution_count": 27,
     "metadata": {},
     "output_type": "execute_result"
    },
    {
     "data": {
      "image/png": "[encoded data removed]",
      "text/plain": [
       "<Figure size 640x480 with 1 Axes>"
      ]
     },
     "metadata": {},
     "output_type": "display_data"
    }
   ],
   "source": [
    "train.groupby('browserid')['click'].sum().plot.bar()"
   ]
  },
  {
   "cell_type": "code",
   "execution_count": 28,
   "id": "f09689b6-3591-4d19-9dcb-a54f6a4921f7",
   "metadata": {},
   "outputs": [
    {
     "data": {
      "text/plain": [
       "<Axes: xlabel='device'>"
      ]
     },
     "execution_count": 28,
     "metadata": {},
     "output_type": "execute_result"
    },
    {
     "data": {
      "image/png": "[encoded data removed]",
      "text/plain": [
       "<Figure size 640x480 with 1 Axes>"
      ]
     },
     "metadata": {},
     "output_type": "display_data"
    }
   ],
   "source": [
    "train.groupby('device')['click'].sum().plot.bar()"
   ]
  },
  {
   "cell_type": "code",
   "execution_count": 29,
   "id": "0bdf4342-611d-48b4-909c-817a3d71185f",
   "metadata": {},
   "outputs": [
    {
     "data": {
      "text/plain": [
       "<Axes: xlabel='countrycode'>"
      ]
     },
     "execution_count": 29,
     "metadata": {},
     "output_type": "execute_result"
    },
    {
     "data": {
      "image/png": "[encoded data removed]",
      "text/plain": [
       "<Figure size 640x480 with 1 Axes>"
      ]
     },
     "metadata": {},
     "output_type": "display_data"
    }
   ],
   "source": [
    "train.groupby('countrycode')['click'].sum().plot.bar()"
   ]
  },
  {
   "cell_type": "code",
   "execution_count": 30,
   "id": "ad207dfb-e815-4e05-9f69-db30aa674ca0",
   "metadata": {},
   "outputs": [
    {
     "name": "stdout",
     "output_type": "stream",
     "text": [
      "feature : siteid and no of null values : 1212515\n",
      "feature : offerid and no of null values : 0\n",
      "feature : category and no of null values : 0\n",
      "feature : merchant and no of null values : 0\n",
      "feature : click and no of null values : 0\n",
      "feature : hour and no of null values : 0\n",
      "feature : minutes and no of null values : 0\n",
      "feature : seconds and no of null values : 0\n",
      "feature : day_of_week and no of null values : 0\n"
     ]
    }
   ],
   "source": [
    "for feature in numerical_feature:\n",
    "    print('feature : {} and no of null values : {}'.format(feature,train[feature].isnull().sum()))\n",
    "    #print('feature : {} and no of null values : {}'.format(feature,train[feature].isnull().sum()))"
   ]
  },
  {
   "cell_type": "code",
   "execution_count": 31,
   "id": "3561270e-45f3-4bce-b1b0-a8c7081a2a17",
   "metadata": {},
   "outputs": [
    {
     "name": "stdout",
     "output_type": "stream",
     "text": [
      "feature : ID and no of null values : 0\n",
      "feature : countrycode and no of null values : 0\n",
      "feature : browserid and no of null values : 608327\n",
      "feature : device and no of null values : 1820299\n",
      "feature : week_end and no of null values : 0\n",
      "feature : hour_status and no of null values : 0\n"
     ]
    }
   ],
   "source": [
    "for feature in categorical_feature:\n",
    "    print('feature : {} and no of null values : {}'.format(feature,train[feature].isnull().sum()))"
   ]
  },
  {
   "cell_type": "code",
   "execution_count": 32,
   "id": "f6329610-6dfb-405c-8d49-7d6e58b45222",
   "metadata": {},
   "outputs": [
    {
     "data": {
      "text/plain": [
       "0    393707\n",
       "1     43507\n",
       "Name: click, dtype: int64"
      ]
     },
     "execution_count": 32,
     "metadata": {},
     "output_type": "execute_result"
    }
   ],
   "source": [
    "train.groupby(np.where(train['siteid'].isnull(),1,0))['click'].sum()"
   ]
  },
  {
   "cell_type": "code",
   "execution_count": 33,
   "id": "95edad9f-46b7-4e44-8e3d-a126a2a46ae2",
   "metadata": {},
   "outputs": [
    {
     "data": {
      "text/plain": [
       "0    0.036036\n",
       "1    0.035882\n",
       "Name: click, dtype: float64"
      ]
     },
     "execution_count": 33,
     "metadata": {},
     "output_type": "execute_result"
    }
   ],
   "source": [
    "train.groupby(np.where(train['siteid'].isnull(),1,0))['click'].mean()"
   ]
  },
  {
   "cell_type": "code",
   "execution_count": null,
   "id": "ac75c139-34ea-4692-8581-69d683d7b9bb",
   "metadata": {},
   "outputs": [],
   "source": []
  },
  {
   "cell_type": "code",
   "execution_count": 34,
   "id": "2124b6fa-c0d6-40df-b169-05bf903d4cb4",
   "metadata": {},
   "outputs": [
    {
     "data": {
      "text/plain": [
       "0    0.036038\n",
       "1    0.035695\n",
       "Name: click, dtype: float64"
      ]
     },
     "execution_count": 34,
     "metadata": {},
     "output_type": "execute_result"
    }
   ],
   "source": [
    "train.groupby(np.where(train['browserid'].isnull(),1,0))['click'].mean()"
   ]
  },
  {
   "cell_type": "code",
   "execution_count": 35,
   "id": "4636081a-7bf4-4182-9329-104a992a35fc",
   "metadata": {},
   "outputs": [
    {
     "data": {
      "text/plain": [
       "0    415500\n",
       "1     21714\n",
       "Name: click, dtype: int64"
      ]
     },
     "execution_count": 35,
     "metadata": {},
     "output_type": "execute_result"
    }
   ],
   "source": [
    "train.groupby(np.where(train['browserid'].isnull(),1,0))['click'].sum()"
   ]
  },
  {
   "cell_type": "code",
   "execution_count": null,
   "id": "f22a5f71-e839-477d-8037-bd1573cc476a",
   "metadata": {},
   "outputs": [],
   "source": []
  },
  {
   "cell_type": "code",
   "execution_count": 36,
   "id": "2e99d163-e180-459c-b497-cee5fd6db00e",
   "metadata": {},
   "outputs": [
    {
     "data": {
      "text/plain": [
       "0    0.035976\n",
       "1    0.036276\n",
       "Name: click, dtype: float64"
      ]
     },
     "execution_count": 36,
     "metadata": {},
     "output_type": "execute_result"
    }
   ],
   "source": [
    "train.groupby(np.where(train['device'].isnull(),1,0))['click'].mean()"
   ]
  },
  {
   "cell_type": "code",
   "execution_count": 37,
   "id": "7eb85fae-66cd-4e0c-8f8a-48464c87341e",
   "metadata": {},
   "outputs": [
    {
     "data": {
      "text/plain": [
       "0    371181\n",
       "1     66033\n",
       "Name: click, dtype: int64"
      ]
     },
     "execution_count": 37,
     "metadata": {},
     "output_type": "execute_result"
    }
   ],
   "source": [
    "train.groupby(np.where(train['device'].isnull(),1,0))['click'].sum()"
   ]
  },
  {
   "cell_type": "code",
   "execution_count": null,
   "id": "c57cb2c3-3156-4f7c-b3b1-69b413f62058",
   "metadata": {},
   "outputs": [],
   "source": []
  },
  {
   "cell_type": "code",
   "execution_count": 38,
   "id": "30f7e632-0c16-441f-8736-bda19f7d1afb",
   "metadata": {},
   "outputs": [
    {
     "data": {
      "text/html": [
       "<div>\n",
       "<style scoped>\n",
       "    .dataframe tbody tr th:only-of-type {\n",
       "        vertical-align: middle;\n",
       "    }\n",
       "\n",
       "    .dataframe tbody tr th {\n",
       "        vertical-align: top;\n",
       "    }\n",
       "\n",
       "    .dataframe thead th {\n",
       "        text-align: right;\n",
       "    }\n",
       "</style>\n",
       "<table border=\"1\" class=\"dataframe\">\n",
       "  <thead>\n",
       "    <tr style=\"text-align: right;\">\n",
       "      <th></th>\n",
       "      <th>ID</th>\n",
       "      <th>siteid</th>\n",
       "      <th>offerid</th>\n",
       "      <th>category</th>\n",
       "      <th>merchant</th>\n",
       "      <th>countrycode</th>\n",
       "      <th>browserid</th>\n",
       "      <th>click</th>\n",
       "      <th>device</th>\n",
       "      <th>hour</th>\n",
       "      <th>minutes</th>\n",
       "      <th>seconds</th>\n",
       "      <th>day_of_week</th>\n",
       "      <th>week_end</th>\n",
       "      <th>hour_status</th>\n",
       "    </tr>\n",
       "  </thead>\n",
       "  <tbody>\n",
       "    <tr>\n",
       "      <th>0</th>\n",
       "      <td>IDsrk7SoW</td>\n",
       "      <td>4709696.0</td>\n",
       "      <td>887235</td>\n",
       "      <td>17714</td>\n",
       "      <td>20301556</td>\n",
       "      <td>e</td>\n",
       "      <td>Firefox</td>\n",
       "      <td>0</td>\n",
       "      <td>NaN</td>\n",
       "      <td>9</td>\n",
       "      <td>42</td>\n",
       "      <td>9</td>\n",
       "      <td>5</td>\n",
       "      <td>weekday</td>\n",
       "      <td>morning</td>\n",
       "    </tr>\n",
       "    <tr>\n",
       "      <th>1</th>\n",
       "      <td>IDmMSxHur</td>\n",
       "      <td>5189467.0</td>\n",
       "      <td>178235</td>\n",
       "      <td>21407</td>\n",
       "      <td>9434818</td>\n",
       "      <td>b</td>\n",
       "      <td>Firefox</td>\n",
       "      <td>0</td>\n",
       "      <td>Desktop</td>\n",
       "      <td>17</td>\n",
       "      <td>50</td>\n",
       "      <td>53</td>\n",
       "      <td>2</td>\n",
       "      <td>weekday</td>\n",
       "      <td>evening</td>\n",
       "    </tr>\n",
       "    <tr>\n",
       "      <th>2</th>\n",
       "      <td>IDVLNN0Ut</td>\n",
       "      <td>98480.0</td>\n",
       "      <td>518539</td>\n",
       "      <td>25085</td>\n",
       "      <td>2050923</td>\n",
       "      <td>a</td>\n",
       "      <td>Edge</td>\n",
       "      <td>0</td>\n",
       "      <td>NaN</td>\n",
       "      <td>12</td>\n",
       "      <td>46</td>\n",
       "      <td>49</td>\n",
       "      <td>2</td>\n",
       "      <td>weekday</td>\n",
       "      <td>afternoon</td>\n",
       "    </tr>\n",
       "    <tr>\n",
       "      <th>3</th>\n",
       "      <td>ID32T6wwQ</td>\n",
       "      <td>8896401.0</td>\n",
       "      <td>390352</td>\n",
       "      <td>40339</td>\n",
       "      <td>72089744</td>\n",
       "      <td>c</td>\n",
       "      <td>Firefox</td>\n",
       "      <td>0</td>\n",
       "      <td>Mobile</td>\n",
       "      <td>10</td>\n",
       "      <td>18</td>\n",
       "      <td>43</td>\n",
       "      <td>1</td>\n",
       "      <td>weekday</td>\n",
       "      <td>morning</td>\n",
       "    </tr>\n",
       "    <tr>\n",
       "      <th>4</th>\n",
       "      <td>IDqUShzMg</td>\n",
       "      <td>5635120.0</td>\n",
       "      <td>472937</td>\n",
       "      <td>12052</td>\n",
       "      <td>39507200</td>\n",
       "      <td>d</td>\n",
       "      <td>Firefox</td>\n",
       "      <td>0</td>\n",
       "      <td>Desktop</td>\n",
       "      <td>16</td>\n",
       "      <td>2</td>\n",
       "      <td>33</td>\n",
       "      <td>5</td>\n",
       "      <td>weekday</td>\n",
       "      <td>afternoon</td>\n",
       "    </tr>\n",
       "  </tbody>\n",
       "</table>\n",
       "</div>"
      ],
      "text/plain": [
       "          ID     siteid  offerid  category  merchant countrycode browserid  \\\n",
       "0  IDsrk7SoW  4709696.0   887235     17714  20301556           e   Firefox   \n",
       "1  IDmMSxHur  5189467.0   178235     21407   9434818           b   Firefox   \n",
       "2  IDVLNN0Ut    98480.0   518539     25085   2050923           a      Edge   \n",
       "3  ID32T6wwQ  8896401.0   390352     40339  72089744           c   Firefox   \n",
       "4  IDqUShzMg  5635120.0   472937     12052  39507200           d   Firefox   \n",
       "\n",
       "   click   device  hour  minutes  seconds  day_of_week week_end hour_status  \n",
       "0      0      NaN     9       42        9            5  weekday     morning  \n",
       "1      0  Desktop    17       50       53            2  weekday     evening  \n",
       "2      0      NaN    12       46       49            2  weekday   afternoon  \n",
       "3      0   Mobile    10       18       43            1  weekday     morning  \n",
       "4      0  Desktop    16        2       33            5  weekday   afternoon  "
      ]
     },
     "execution_count": 38,
     "metadata": {},
     "output_type": "execute_result"
    }
   ],
   "source": [
    "train.head()"
   ]
  },
  {
   "cell_type": "markdown",
   "id": "6ebfd650-4c58-4228-8685-cee49f6429f0",
   "metadata": {},
   "source": [
    "### handelling null values\n"
   ]
  },
  {
   "cell_type": "code",
   "execution_count": 39,
   "id": "45e7246d-9550-4bda-8978-dc7f4a1a9ddc",
   "metadata": {},
   "outputs": [],
   "source": [
    "train['siteid'] = train['siteid'].fillna('-999')\n",
    "train['browserid'] = train['browserid'].fillna('unknown')"
   ]
  },
  {
   "cell_type": "code",
   "execution_count": 40,
   "id": "f1087b52-dcc4-4cbd-967e-35e913aba87a",
   "metadata": {},
   "outputs": [],
   "source": [
    "train['device'] = train['device'].fillna('missing')"
   ]
  },
  {
   "cell_type": "code",
   "execution_count": 41,
   "id": "1ada3ce2-e806-49c5-9eff-31f4d3b908de",
   "metadata": {},
   "outputs": [
    {
     "data": {
      "text/plain": [
       "click\n",
       "0    11700596\n",
       "1      437214\n",
       "Name: count, dtype: int64"
      ]
     },
     "execution_count": 41,
     "metadata": {},
     "output_type": "execute_result"
    }
   ],
   "source": [
    "train['click'].value_counts()"
   ]
  },
  {
   "cell_type": "markdown",
   "id": "11b261de-a252-42f7-8512-231d8a86e14b",
   "metadata": {},
   "source": [
    "#### label encoding"
   ]
  },
  {
   "cell_type": "code",
   "execution_count": 42,
   "id": "72fb08ff-0142-477e-89ee-53f131f7115f",
   "metadata": {},
   "outputs": [
    {
     "data": {
      "text/html": [
       "<div>\n",
       "<style scoped>\n",
       "    .dataframe tbody tr th:only-of-type {\n",
       "        vertical-align: middle;\n",
       "    }\n",
       "\n",
       "    .dataframe tbody tr th {\n",
       "        vertical-align: top;\n",
       "    }\n",
       "\n",
       "    .dataframe thead th {\n",
       "        text-align: right;\n",
       "    }\n",
       "</style>\n",
       "<table border=\"1\" class=\"dataframe\">\n",
       "  <thead>\n",
       "    <tr style=\"text-align: right;\">\n",
       "      <th></th>\n",
       "      <th>ID</th>\n",
       "      <th>siteid</th>\n",
       "      <th>offerid</th>\n",
       "      <th>category</th>\n",
       "      <th>merchant</th>\n",
       "      <th>countrycode</th>\n",
       "      <th>browserid</th>\n",
       "      <th>click</th>\n",
       "      <th>device</th>\n",
       "      <th>hour</th>\n",
       "      <th>minutes</th>\n",
       "      <th>seconds</th>\n",
       "      <th>day_of_week</th>\n",
       "      <th>week_end</th>\n",
       "      <th>hour_status</th>\n",
       "    </tr>\n",
       "  </thead>\n",
       "  <tbody>\n",
       "    <tr>\n",
       "      <th>0</th>\n",
       "      <td>IDsrk7SoW</td>\n",
       "      <td>4709696.0</td>\n",
       "      <td>887235</td>\n",
       "      <td>17714</td>\n",
       "      <td>20301556</td>\n",
       "      <td>e</td>\n",
       "      <td>Firefox</td>\n",
       "      <td>0</td>\n",
       "      <td>missing</td>\n",
       "      <td>9</td>\n",
       "      <td>42</td>\n",
       "      <td>9</td>\n",
       "      <td>5</td>\n",
       "      <td>weekday</td>\n",
       "      <td>morning</td>\n",
       "    </tr>\n",
       "    <tr>\n",
       "      <th>1</th>\n",
       "      <td>IDmMSxHur</td>\n",
       "      <td>5189467.0</td>\n",
       "      <td>178235</td>\n",
       "      <td>21407</td>\n",
       "      <td>9434818</td>\n",
       "      <td>b</td>\n",
       "      <td>Firefox</td>\n",
       "      <td>0</td>\n",
       "      <td>Desktop</td>\n",
       "      <td>17</td>\n",
       "      <td>50</td>\n",
       "      <td>53</td>\n",
       "      <td>2</td>\n",
       "      <td>weekday</td>\n",
       "      <td>evening</td>\n",
       "    </tr>\n",
       "    <tr>\n",
       "      <th>2</th>\n",
       "      <td>IDVLNN0Ut</td>\n",
       "      <td>98480.0</td>\n",
       "      <td>518539</td>\n",
       "      <td>25085</td>\n",
       "      <td>2050923</td>\n",
       "      <td>a</td>\n",
       "      <td>Edge</td>\n",
       "      <td>0</td>\n",
       "      <td>missing</td>\n",
       "      <td>12</td>\n",
       "      <td>46</td>\n",
       "      <td>49</td>\n",
       "      <td>2</td>\n",
       "      <td>weekday</td>\n",
       "      <td>afternoon</td>\n",
       "    </tr>\n",
       "    <tr>\n",
       "      <th>3</th>\n",
       "      <td>ID32T6wwQ</td>\n",
       "      <td>8896401.0</td>\n",
       "      <td>390352</td>\n",
       "      <td>40339</td>\n",
       "      <td>72089744</td>\n",
       "      <td>c</td>\n",
       "      <td>Firefox</td>\n",
       "      <td>0</td>\n",
       "      <td>Mobile</td>\n",
       "      <td>10</td>\n",
       "      <td>18</td>\n",
       "      <td>43</td>\n",
       "      <td>1</td>\n",
       "      <td>weekday</td>\n",
       "      <td>morning</td>\n",
       "    </tr>\n",
       "    <tr>\n",
       "      <th>4</th>\n",
       "      <td>IDqUShzMg</td>\n",
       "      <td>5635120.0</td>\n",
       "      <td>472937</td>\n",
       "      <td>12052</td>\n",
       "      <td>39507200</td>\n",
       "      <td>d</td>\n",
       "      <td>Firefox</td>\n",
       "      <td>0</td>\n",
       "      <td>Desktop</td>\n",
       "      <td>16</td>\n",
       "      <td>2</td>\n",
       "      <td>33</td>\n",
       "      <td>5</td>\n",
       "      <td>weekday</td>\n",
       "      <td>afternoon</td>\n",
       "    </tr>\n",
       "  </tbody>\n",
       "</table>\n",
       "</div>"
      ],
      "text/plain": [
       "          ID     siteid  offerid  category  merchant countrycode browserid  \\\n",
       "0  IDsrk7SoW  4709696.0   887235     17714  20301556           e   Firefox   \n",
       "1  IDmMSxHur  5189467.0   178235     21407   9434818           b   Firefox   \n",
       "2  IDVLNN0Ut    98480.0   518539     25085   2050923           a      Edge   \n",
       "3  ID32T6wwQ  8896401.0   390352     40339  72089744           c   Firefox   \n",
       "4  IDqUShzMg  5635120.0   472937     12052  39507200           d   Firefox   \n",
       "\n",
       "   click   device  hour  minutes  seconds  day_of_week week_end hour_status  \n",
       "0      0  missing     9       42        9            5  weekday     morning  \n",
       "1      0  Desktop    17       50       53            2  weekday     evening  \n",
       "2      0  missing    12       46       49            2  weekday   afternoon  \n",
       "3      0   Mobile    10       18       43            1  weekday     morning  \n",
       "4      0  Desktop    16        2       33            5  weekday   afternoon  "
      ]
     },
     "execution_count": 42,
     "metadata": {},
     "output_type": "execute_result"
    }
   ],
   "source": [
    "train.head()"
   ]
  },
  {
   "cell_type": "code",
   "execution_count": 43,
   "id": "92c91654-c408-4e16-b7df-74fa58a2d304",
   "metadata": {},
   "outputs": [],
   "source": [
    "mean_encoding = ['siteid','offerid','category','merchant']\n",
    "for feature in mean_encoding:\n",
    "   mean_encoded_feature = train.groupby(feature)['click'].mean().to_dict()\n",
    "   train[feature] = train[feature].map(mean_encoded_feature)\n",
    "    #print(feature)"
   ]
  },
  {
   "cell_type": "code",
   "execution_count": 44,
   "id": "9eedcc17-ffed-40cb-bf8b-0525ead3303c",
   "metadata": {},
   "outputs": [
    {
     "data": {
      "text/html": [
       "<div>\n",
       "<style scoped>\n",
       "    .dataframe tbody tr th:only-of-type {\n",
       "        vertical-align: middle;\n",
       "    }\n",
       "\n",
       "    .dataframe tbody tr th {\n",
       "        vertical-align: top;\n",
       "    }\n",
       "\n",
       "    .dataframe thead th {\n",
       "        text-align: right;\n",
       "    }\n",
       "</style>\n",
       "<table border=\"1\" class=\"dataframe\">\n",
       "  <thead>\n",
       "    <tr style=\"text-align: right;\">\n",
       "      <th></th>\n",
       "      <th>ID</th>\n",
       "      <th>siteid</th>\n",
       "      <th>offerid</th>\n",
       "      <th>category</th>\n",
       "      <th>merchant</th>\n",
       "      <th>countrycode</th>\n",
       "      <th>browserid</th>\n",
       "      <th>click</th>\n",
       "      <th>device</th>\n",
       "      <th>hour</th>\n",
       "      <th>minutes</th>\n",
       "      <th>seconds</th>\n",
       "      <th>day_of_week</th>\n",
       "      <th>week_end</th>\n",
       "      <th>hour_status</th>\n",
       "    </tr>\n",
       "  </thead>\n",
       "  <tbody>\n",
       "    <tr>\n",
       "      <th>0</th>\n",
       "      <td>IDsrk7SoW</td>\n",
       "      <td>0.013966</td>\n",
       "      <td>0.009398</td>\n",
       "      <td>0.025282</td>\n",
       "      <td>0.035296</td>\n",
       "      <td>e</td>\n",
       "      <td>Firefox</td>\n",
       "      <td>0</td>\n",
       "      <td>missing</td>\n",
       "      <td>9</td>\n",
       "      <td>42</td>\n",
       "      <td>9</td>\n",
       "      <td>5</td>\n",
       "      <td>weekday</td>\n",
       "      <td>morning</td>\n",
       "    </tr>\n",
       "    <tr>\n",
       "      <th>1</th>\n",
       "      <td>IDmMSxHur</td>\n",
       "      <td>0.000000</td>\n",
       "      <td>0.008865</td>\n",
       "      <td>0.026070</td>\n",
       "      <td>0.015654</td>\n",
       "      <td>b</td>\n",
       "      <td>Firefox</td>\n",
       "      <td>0</td>\n",
       "      <td>Desktop</td>\n",
       "      <td>17</td>\n",
       "      <td>50</td>\n",
       "      <td>53</td>\n",
       "      <td>2</td>\n",
       "      <td>weekday</td>\n",
       "      <td>evening</td>\n",
       "    </tr>\n",
       "    <tr>\n",
       "      <th>2</th>\n",
       "      <td>IDVLNN0Ut</td>\n",
       "      <td>0.000000</td>\n",
       "      <td>0.000000</td>\n",
       "      <td>0.034097</td>\n",
       "      <td>0.022760</td>\n",
       "      <td>a</td>\n",
       "      <td>Edge</td>\n",
       "      <td>0</td>\n",
       "      <td>missing</td>\n",
       "      <td>12</td>\n",
       "      <td>46</td>\n",
       "      <td>49</td>\n",
       "      <td>2</td>\n",
       "      <td>weekday</td>\n",
       "      <td>afternoon</td>\n",
       "    </tr>\n",
       "    <tr>\n",
       "      <th>3</th>\n",
       "      <td>ID32T6wwQ</td>\n",
       "      <td>0.015323</td>\n",
       "      <td>0.000000</td>\n",
       "      <td>0.013608</td>\n",
       "      <td>0.037653</td>\n",
       "      <td>c</td>\n",
       "      <td>Firefox</td>\n",
       "      <td>0</td>\n",
       "      <td>Mobile</td>\n",
       "      <td>10</td>\n",
       "      <td>18</td>\n",
       "      <td>43</td>\n",
       "      <td>1</td>\n",
       "      <td>weekday</td>\n",
       "      <td>morning</td>\n",
       "    </tr>\n",
       "    <tr>\n",
       "      <th>4</th>\n",
       "      <td>IDqUShzMg</td>\n",
       "      <td>0.002331</td>\n",
       "      <td>0.000000</td>\n",
       "      <td>0.049339</td>\n",
       "      <td>0.022627</td>\n",
       "      <td>d</td>\n",
       "      <td>Firefox</td>\n",
       "      <td>0</td>\n",
       "      <td>Desktop</td>\n",
       "      <td>16</td>\n",
       "      <td>2</td>\n",
       "      <td>33</td>\n",
       "      <td>5</td>\n",
       "      <td>weekday</td>\n",
       "      <td>afternoon</td>\n",
       "    </tr>\n",
       "  </tbody>\n",
       "</table>\n",
       "</div>"
      ],
      "text/plain": [
       "          ID    siteid   offerid  category  merchant countrycode browserid  \\\n",
       "0  IDsrk7SoW  0.013966  0.009398  0.025282  0.035296           e   Firefox   \n",
       "1  IDmMSxHur  0.000000  0.008865  0.026070  0.015654           b   Firefox   \n",
       "2  IDVLNN0Ut  0.000000  0.000000  0.034097  0.022760           a      Edge   \n",
       "3  ID32T6wwQ  0.015323  0.000000  0.013608  0.037653           c   Firefox   \n",
       "4  IDqUShzMg  0.002331  0.000000  0.049339  0.022627           d   Firefox   \n",
       "\n",
       "   click   device  hour  minutes  seconds  day_of_week week_end hour_status  \n",
       "0      0  missing     9       42        9            5  weekday     morning  \n",
       "1      0  Desktop    17       50       53            2  weekday     evening  \n",
       "2      0  missing    12       46       49            2  weekday   afternoon  \n",
       "3      0   Mobile    10       18       43            1  weekday     morning  \n",
       "4      0  Desktop    16        2       33            5  weekday   afternoon  "
      ]
     },
     "execution_count": 44,
     "metadata": {},
     "output_type": "execute_result"
    }
   ],
   "source": [
    "#train.groupby('siteid')['click'].mean().to_dict()\n",
    "train.head()"
   ]
  },
  {
   "cell_type": "code",
   "execution_count": 45,
   "id": "84fcb286-9438-471d-b833-259228e13da5",
   "metadata": {},
   "outputs": [
    {
     "data": {
      "text/plain": [
       "siteid\n",
       "0.000000    0.000000\n",
       "0.000150    0.000150\n",
       "0.000167    0.000167\n",
       "0.000178    0.000178\n",
       "0.000180    0.000180\n",
       "              ...   \n",
       "0.961538    0.961538\n",
       "0.967742    0.967742\n",
       "0.968750    0.968750\n",
       "0.979167    0.979167\n",
       "1.000000    1.000000\n",
       "Name: click, Length: 5535, dtype: float64"
      ]
     },
     "execution_count": 45,
     "metadata": {},
     "output_type": "execute_result"
    }
   ],
   "source": [
    "train.groupby('siteid')['click'].mean()"
   ]
  },
  {
   "cell_type": "code",
   "execution_count": 46,
   "id": "6efb918b-8109-48dc-be62-d6cf228d5139",
   "metadata": {},
   "outputs": [],
   "source": [
    "train[['B','C','D','E','F']] = pd.get_dummies(train['countrycode'],dtype = int,drop_first = True)"
   ]
  },
  {
   "cell_type": "code",
   "execution_count": 47,
   "id": "c9227f1c-2334-4c79-aff9-7a923119c452",
   "metadata": {},
   "outputs": [],
   "source": [
    "train.drop({'countrycode','ID'},axis = 'columns',inplace = True)"
   ]
  },
  {
   "cell_type": "code",
   "execution_count": 48,
   "id": "3398dcf2-96ad-4e85-87df-a76469ec6c78",
   "metadata": {},
   "outputs": [
    {
     "data": {
      "text/html": [
       "<div>\n",
       "<style scoped>\n",
       "    .dataframe tbody tr th:only-of-type {\n",
       "        vertical-align: middle;\n",
       "    }\n",
       "\n",
       "    .dataframe tbody tr th {\n",
       "        vertical-align: top;\n",
       "    }\n",
       "\n",
       "    .dataframe thead th {\n",
       "        text-align: right;\n",
       "    }\n",
       "</style>\n",
       "<table border=\"1\" class=\"dataframe\">\n",
       "  <thead>\n",
       "    <tr style=\"text-align: right;\">\n",
       "      <th></th>\n",
       "      <th>siteid</th>\n",
       "      <th>offerid</th>\n",
       "      <th>category</th>\n",
       "      <th>merchant</th>\n",
       "      <th>browserid</th>\n",
       "      <th>click</th>\n",
       "      <th>device</th>\n",
       "      <th>hour</th>\n",
       "      <th>minutes</th>\n",
       "      <th>seconds</th>\n",
       "      <th>day_of_week</th>\n",
       "      <th>week_end</th>\n",
       "      <th>hour_status</th>\n",
       "      <th>B</th>\n",
       "      <th>C</th>\n",
       "      <th>D</th>\n",
       "      <th>E</th>\n",
       "      <th>F</th>\n",
       "    </tr>\n",
       "  </thead>\n",
       "  <tbody>\n",
       "    <tr>\n",
       "      <th>0</th>\n",
       "      <td>0.013966</td>\n",
       "      <td>0.009398</td>\n",
       "      <td>0.025282</td>\n",
       "      <td>0.035296</td>\n",
       "      <td>Firefox</td>\n",
       "      <td>0</td>\n",
       "      <td>missing</td>\n",
       "      <td>9</td>\n",
       "      <td>42</td>\n",
       "      <td>9</td>\n",
       "      <td>5</td>\n",
       "      <td>weekday</td>\n",
       "      <td>morning</td>\n",
       "      <td>0</td>\n",
       "      <td>0</td>\n",
       "      <td>0</td>\n",
       "      <td>1</td>\n",
       "      <td>0</td>\n",
       "    </tr>\n",
       "    <tr>\n",
       "      <th>1</th>\n",
       "      <td>0.000000</td>\n",
       "      <td>0.008865</td>\n",
       "      <td>0.026070</td>\n",
       "      <td>0.015654</td>\n",
       "      <td>Firefox</td>\n",
       "      <td>0</td>\n",
       "      <td>Desktop</td>\n",
       "      <td>17</td>\n",
       "      <td>50</td>\n",
       "      <td>53</td>\n",
       "      <td>2</td>\n",
       "      <td>weekday</td>\n",
       "      <td>evening</td>\n",
       "      <td>1</td>\n",
       "      <td>0</td>\n",
       "      <td>0</td>\n",
       "      <td>0</td>\n",
       "      <td>0</td>\n",
       "    </tr>\n",
       "    <tr>\n",
       "      <th>2</th>\n",
       "      <td>0.000000</td>\n",
       "      <td>0.000000</td>\n",
       "      <td>0.034097</td>\n",
       "      <td>0.022760</td>\n",
       "      <td>Edge</td>\n",
       "      <td>0</td>\n",
       "      <td>missing</td>\n",
       "      <td>12</td>\n",
       "      <td>46</td>\n",
       "      <td>49</td>\n",
       "      <td>2</td>\n",
       "      <td>weekday</td>\n",
       "      <td>afternoon</td>\n",
       "      <td>0</td>\n",
       "      <td>0</td>\n",
       "      <td>0</td>\n",
       "      <td>0</td>\n",
       "      <td>0</td>\n",
       "    </tr>\n",
       "    <tr>\n",
       "      <th>3</th>\n",
       "      <td>0.015323</td>\n",
       "      <td>0.000000</td>\n",
       "      <td>0.013608</td>\n",
       "      <td>0.037653</td>\n",
       "      <td>Firefox</td>\n",
       "      <td>0</td>\n",
       "      <td>Mobile</td>\n",
       "      <td>10</td>\n",
       "      <td>18</td>\n",
       "      <td>43</td>\n",
       "      <td>1</td>\n",
       "      <td>weekday</td>\n",
       "      <td>morning</td>\n",
       "      <td>0</td>\n",
       "      <td>1</td>\n",
       "      <td>0</td>\n",
       "      <td>0</td>\n",
       "      <td>0</td>\n",
       "    </tr>\n",
       "    <tr>\n",
       "      <th>4</th>\n",
       "      <td>0.002331</td>\n",
       "      <td>0.000000</td>\n",
       "      <td>0.049339</td>\n",
       "      <td>0.022627</td>\n",
       "      <td>Firefox</td>\n",
       "      <td>0</td>\n",
       "      <td>Desktop</td>\n",
       "      <td>16</td>\n",
       "      <td>2</td>\n",
       "      <td>33</td>\n",
       "      <td>5</td>\n",
       "      <td>weekday</td>\n",
       "      <td>afternoon</td>\n",
       "      <td>0</td>\n",
       "      <td>0</td>\n",
       "      <td>1</td>\n",
       "      <td>0</td>\n",
       "      <td>0</td>\n",
       "    </tr>\n",
       "  </tbody>\n",
       "</table>\n",
       "</div>"
      ],
      "text/plain": [
       "     siteid   offerid  category  merchant browserid  click   device  hour  \\\n",
       "0  0.013966  0.009398  0.025282  0.035296   Firefox      0  missing     9   \n",
       "1  0.000000  0.008865  0.026070  0.015654   Firefox      0  Desktop    17   \n",
       "2  0.000000  0.000000  0.034097  0.022760      Edge      0  missing    12   \n",
       "3  0.015323  0.000000  0.013608  0.037653   Firefox      0   Mobile    10   \n",
       "4  0.002331  0.000000  0.049339  0.022627   Firefox      0  Desktop    16   \n",
       "\n",
       "   minutes  seconds  day_of_week week_end hour_status  B  C  D  E  F  \n",
       "0       42        9            5  weekday     morning  0  0  0  1  0  \n",
       "1       50       53            2  weekday     evening  1  0  0  0  0  \n",
       "2       46       49            2  weekday   afternoon  0  0  0  0  0  \n",
       "3       18       43            1  weekday     morning  0  1  0  0  0  \n",
       "4        2       33            5  weekday   afternoon  0  0  1  0  0  "
      ]
     },
     "execution_count": 48,
     "metadata": {},
     "output_type": "execute_result"
    }
   ],
   "source": [
    "train.head()"
   ]
  },
  {
   "cell_type": "code",
   "execution_count": 49,
   "id": "fb09a44c-e6ea-44d2-9921-e6c1b80f3710",
   "metadata": {},
   "outputs": [],
   "source": [
    "from sklearn.preprocessing import LabelEncoder\n",
    "le = LabelEncoder()"
   ]
  },
  {
   "cell_type": "code",
   "execution_count": 50,
   "id": "41f8bdb8-016c-4dda-8394-aac9d0ee0af6",
   "metadata": {},
   "outputs": [],
   "source": [
    "label_encoding = ['hour','minutes','seconds','day_of_week','week_end','hour_status']\n",
    "for feature in label_encoding:\n",
    "    train[feature] = le.fit_transform(train[feature])"
   ]
  },
  {
   "cell_type": "code",
   "execution_count": 51,
   "id": "b1603931-708c-4371-9cf0-03c017f92231",
   "metadata": {},
   "outputs": [],
   "source": [
    "train[['Edge','Firefox','IE','Opera','Safari','unknown']] =  pd.get_dummies(train['browserid'],drop_first = True,dtype = int)"
   ]
  },
  {
   "cell_type": "code",
   "execution_count": 52,
   "id": "4efbfabb-bb07-4176-a92b-1b42bd1c7a53",
   "metadata": {},
   "outputs": [],
   "source": [
    "train[['Mobile','Tablet','missing']] = pd.get_dummies(train['device'],drop_first = True,dtype = int)"
   ]
  },
  {
   "cell_type": "code",
   "execution_count": 53,
   "id": "04b186d7-6a46-4e84-b028-da9180446bda",
   "metadata": {},
   "outputs": [
    {
     "data": {
      "text/plain": [
       "array([42, 50, 46, 18,  2,  8,  7, 58,  0, 38,  6, 36, 52, 43, 11, 39, 28,\n",
       "       26, 10, 45,  1, 33,  4, 31, 25, 59, 51,  5, 17, 54, 41, 47, 21, 12,\n",
       "       13, 55, 56, 22, 15, 30,  9, 53, 16, 48, 49, 19, 27, 29, 35, 14, 44,\n",
       "       37, 40, 23, 24, 20, 57, 34,  3, 32], dtype=int64)"
      ]
     },
     "execution_count": 53,
     "metadata": {},
     "output_type": "execute_result"
    }
   ],
   "source": [
    "train['minutes'].unique()"
   ]
  },
  {
   "cell_type": "code",
   "execution_count": 54,
   "id": "cafc1b17-6cf4-4920-bb28-5a27270f0b78",
   "metadata": {},
   "outputs": [],
   "source": [
    "train.drop({'browserid','device'},axis = 'columns',inplace = True)"
   ]
  },
  {
   "cell_type": "code",
   "execution_count": null,
   "id": "04fff4fe-2637-4b07-aed7-151351f6c9ba",
   "metadata": {},
   "outputs": [],
   "source": []
  },
  {
   "cell_type": "markdown",
   "id": "cdff3351-b97c-4af4-a928-427da4c446ae",
   "metadata": {},
   "source": [
    "### handelling imbalanced dataset"
   ]
  },
  {
   "cell_type": "code",
   "execution_count": null,
   "id": "4c61c66c-4772-4dac-a225-cd72ecfb4cea",
   "metadata": {},
   "outputs": [],
   "source": []
  },
  {
   "cell_type": "code",
   "execution_count": 55,
   "id": "e6ce1b71-2098-47a3-9212-657617cfeb3e",
   "metadata": {},
   "outputs": [
    {
     "data": {
      "text/plain": [
       "click\n",
       "0    11700596\n",
       "1      437214\n",
       "Name: count, dtype: int64"
      ]
     },
     "execution_count": 55,
     "metadata": {},
     "output_type": "execute_result"
    }
   ],
   "source": [
    "train['click'].value_counts()"
   ]
  },
  {
   "cell_type": "code",
   "execution_count": 56,
   "id": "68bbcecf-cee9-40a5-a3c9-e5a33413b713",
   "metadata": {},
   "outputs": [],
   "source": [
    "target = train['click']"
   ]
  },
  {
   "cell_type": "code",
   "execution_count": 57,
   "id": "50d733ce-f84b-4d26-a328-d3ae3c805e11",
   "metadata": {},
   "outputs": [],
   "source": [
    "majority = train[train['click']==0]\n",
    "minority = train[train['click']==1]"
   ]
  },
  {
   "cell_type": "code",
   "execution_count": 58,
   "id": "cdd17b40-5ae9-41e5-9ce0-04f0cbae4d73",
   "metadata": {},
   "outputs": [
    {
     "data": {
      "text/plain": [
       "(437214, 25)"
      ]
     },
     "execution_count": 58,
     "metadata": {},
     "output_type": "execute_result"
    }
   ],
   "source": [
    "minority.shape\n",
    "#majority.shape"
   ]
  },
  {
   "cell_type": "code",
   "execution_count": 59,
   "id": "69d68b9b-b1bf-4bcf-8a70-c06df39b06d4",
   "metadata": {},
   "outputs": [],
   "source": [
    "from imblearn.under_sampling import NearMiss\n",
    "nm = NearMiss()"
   ]
  },
  {
   "cell_type": "code",
   "execution_count": 60,
   "id": "de790005-5eea-491c-bce2-c9d3c0e91951",
   "metadata": {},
   "outputs": [],
   "source": [
    "X = train.drop('click',axis = 'columns')"
   ]
  },
  {
   "cell_type": "code",
   "execution_count": 61,
   "id": "1755b82d-e7a8-4143-94b2-9afe29e7033c",
   "metadata": {},
   "outputs": [],
   "source": [
    "Y = train['click']"
   ]
  },
  {
   "cell_type": "code",
   "execution_count": 62,
   "id": "d69781e2-bf60-4a51-88f4-c81aa976b738",
   "metadata": {},
   "outputs": [],
   "source": [
    "X_res,Y_res = nm.fit_resample(X,Y)"
   ]
  },
  {
   "cell_type": "code",
   "execution_count": 63,
   "id": "e6c39332-f4ad-4d38-9a40-5d2ea9ce231b",
   "metadata": {},
   "outputs": [],
   "source": [
    "train2 = pd.concat([X_res,Y_res],axis = 'columns')"
   ]
  },
  {
   "cell_type": "code",
   "execution_count": 64,
   "id": "70bdad90-7b35-4ad8-8c3a-e0b9c5ce907e",
   "metadata": {},
   "outputs": [
    {
     "data": {
      "text/html": [
       "<div>\n",
       "<style scoped>\n",
       "    .dataframe tbody tr th:only-of-type {\n",
       "        vertical-align: middle;\n",
       "    }\n",
       "\n",
       "    .dataframe tbody tr th {\n",
       "        vertical-align: top;\n",
       "    }\n",
       "\n",
       "    .dataframe thead th {\n",
       "        text-align: right;\n",
       "    }\n",
       "</style>\n",
       "<table border=\"1\" class=\"dataframe\">\n",
       "  <thead>\n",
       "    <tr style=\"text-align: right;\">\n",
       "      <th></th>\n",
       "      <th>siteid</th>\n",
       "      <th>offerid</th>\n",
       "      <th>category</th>\n",
       "      <th>merchant</th>\n",
       "      <th>hour</th>\n",
       "      <th>minutes</th>\n",
       "      <th>seconds</th>\n",
       "      <th>day_of_week</th>\n",
       "      <th>week_end</th>\n",
       "      <th>hour_status</th>\n",
       "      <th>...</th>\n",
       "      <th>Edge</th>\n",
       "      <th>Firefox</th>\n",
       "      <th>IE</th>\n",
       "      <th>Opera</th>\n",
       "      <th>Safari</th>\n",
       "      <th>unknown</th>\n",
       "      <th>Mobile</th>\n",
       "      <th>Tablet</th>\n",
       "      <th>missing</th>\n",
       "      <th>click</th>\n",
       "    </tr>\n",
       "  </thead>\n",
       "  <tbody>\n",
       "    <tr>\n",
       "      <th>0</th>\n",
       "      <td>0.130495</td>\n",
       "      <td>0.002475</td>\n",
       "      <td>0.025040</td>\n",
       "      <td>0.020626</td>\n",
       "      <td>23</td>\n",
       "      <td>19</td>\n",
       "      <td>3</td>\n",
       "      <td>1</td>\n",
       "      <td>0</td>\n",
       "      <td>3</td>\n",
       "      <td>...</td>\n",
       "      <td>0</td>\n",
       "      <td>0</td>\n",
       "      <td>1</td>\n",
       "      <td>0</td>\n",
       "      <td>0</td>\n",
       "      <td>0</td>\n",
       "      <td>0</td>\n",
       "      <td>0</td>\n",
       "      <td>0</td>\n",
       "      <td>0</td>\n",
       "    </tr>\n",
       "    <tr>\n",
       "      <th>1</th>\n",
       "      <td>0.130495</td>\n",
       "      <td>0.000000</td>\n",
       "      <td>0.025040</td>\n",
       "      <td>0.035296</td>\n",
       "      <td>20</td>\n",
       "      <td>52</td>\n",
       "      <td>20</td>\n",
       "      <td>1</td>\n",
       "      <td>0</td>\n",
       "      <td>1</td>\n",
       "      <td>...</td>\n",
       "      <td>0</td>\n",
       "      <td>0</td>\n",
       "      <td>1</td>\n",
       "      <td>0</td>\n",
       "      <td>0</td>\n",
       "      <td>0</td>\n",
       "      <td>0</td>\n",
       "      <td>0</td>\n",
       "      <td>0</td>\n",
       "      <td>0</td>\n",
       "    </tr>\n",
       "    <tr>\n",
       "      <th>2</th>\n",
       "      <td>0.000000</td>\n",
       "      <td>0.043478</td>\n",
       "      <td>0.042724</td>\n",
       "      <td>0.033162</td>\n",
       "      <td>18</td>\n",
       "      <td>18</td>\n",
       "      <td>39</td>\n",
       "      <td>1</td>\n",
       "      <td>0</td>\n",
       "      <td>1</td>\n",
       "      <td>...</td>\n",
       "      <td>0</td>\n",
       "      <td>0</td>\n",
       "      <td>0</td>\n",
       "      <td>0</td>\n",
       "      <td>0</td>\n",
       "      <td>0</td>\n",
       "      <td>1</td>\n",
       "      <td>0</td>\n",
       "      <td>0</td>\n",
       "      <td>0</td>\n",
       "    </tr>\n",
       "    <tr>\n",
       "      <th>3</th>\n",
       "      <td>0.035882</td>\n",
       "      <td>0.007105</td>\n",
       "      <td>0.025040</td>\n",
       "      <td>0.024235</td>\n",
       "      <td>9</td>\n",
       "      <td>57</td>\n",
       "      <td>42</td>\n",
       "      <td>3</td>\n",
       "      <td>0</td>\n",
       "      <td>2</td>\n",
       "      <td>...</td>\n",
       "      <td>0</td>\n",
       "      <td>0</td>\n",
       "      <td>0</td>\n",
       "      <td>0</td>\n",
       "      <td>0</td>\n",
       "      <td>0</td>\n",
       "      <td>1</td>\n",
       "      <td>0</td>\n",
       "      <td>0</td>\n",
       "      <td>0</td>\n",
       "    </tr>\n",
       "    <tr>\n",
       "      <th>4</th>\n",
       "      <td>0.052419</td>\n",
       "      <td>0.005970</td>\n",
       "      <td>0.013608</td>\n",
       "      <td>0.006310</td>\n",
       "      <td>12</td>\n",
       "      <td>50</td>\n",
       "      <td>28</td>\n",
       "      <td>4</td>\n",
       "      <td>0</td>\n",
       "      <td>0</td>\n",
       "      <td>...</td>\n",
       "      <td>0</td>\n",
       "      <td>0</td>\n",
       "      <td>0</td>\n",
       "      <td>0</td>\n",
       "      <td>0</td>\n",
       "      <td>0</td>\n",
       "      <td>1</td>\n",
       "      <td>0</td>\n",
       "      <td>0</td>\n",
       "      <td>0</td>\n",
       "    </tr>\n",
       "  </tbody>\n",
       "</table>\n",
       "<p>5 rows × 25 columns</p>\n",
       "</div>"
      ],
      "text/plain": [
       "     siteid   offerid  category  merchant  hour  minutes  seconds  \\\n",
       "0  0.130495  0.002475  0.025040  0.020626    23       19        3   \n",
       "1  0.130495  0.000000  0.025040  0.035296    20       52       20   \n",
       "2  0.000000  0.043478  0.042724  0.033162    18       18       39   \n",
       "3  0.035882  0.007105  0.025040  0.024235     9       57       42   \n",
       "4  0.052419  0.005970  0.013608  0.006310    12       50       28   \n",
       "\n",
       "   day_of_week  week_end  hour_status  ...  Edge  Firefox  IE  Opera  Safari  \\\n",
       "0            1         0            3  ...     0        0   1      0       0   \n",
       "1            1         0            1  ...     0        0   1      0       0   \n",
       "2            1         0            1  ...     0        0   0      0       0   \n",
       "3            3         0            2  ...     0        0   0      0       0   \n",
       "4            4         0            0  ...     0        0   0      0       0   \n",
       "\n",
       "   unknown  Mobile  Tablet  missing  click  \n",
       "0        0       0       0        0      0  \n",
       "1        0       0       0        0      0  \n",
       "2        0       1       0        0      0  \n",
       "3        0       1       0        0      0  \n",
       "4        0       1       0        0      0  \n",
       "\n",
       "[5 rows x 25 columns]"
      ]
     },
     "execution_count": 64,
     "metadata": {},
     "output_type": "execute_result"
    }
   ],
   "source": [
    "train2.head()"
   ]
  },
  {
   "cell_type": "code",
   "execution_count": 65,
   "id": "99d35bee-f80a-4e7d-9503-bcba7d86ee9f",
   "metadata": {},
   "outputs": [
    {
     "name": "stdout",
     "output_type": "stream",
     "text": [
      "<class 'pandas.core.frame.DataFrame'>\n",
      "RangeIndex: 874428 entries, 0 to 874427\n",
      "Data columns (total 24 columns):\n",
      " #   Column       Non-Null Count   Dtype  \n",
      "---  ------       --------------   -----  \n",
      " 0   siteid       874428 non-null  float64\n",
      " 1   offerid      874428 non-null  float64\n",
      " 2   category     874428 non-null  float64\n",
      " 3   merchant     874428 non-null  float64\n",
      " 4   hour         874428 non-null  int64  \n",
      " 5   minutes      874428 non-null  int64  \n",
      " 6   seconds      874428 non-null  int64  \n",
      " 7   day_of_week  874428 non-null  int64  \n",
      " 8   week_end     874428 non-null  int32  \n",
      " 9   hour_status  874428 non-null  int32  \n",
      " 10  B            874428 non-null  int32  \n",
      " 11  C            874428 non-null  int32  \n",
      " 12  D            874428 non-null  int32  \n",
      " 13  E            874428 non-null  int32  \n",
      " 14  F            874428 non-null  int32  \n",
      " 15  Edge         874428 non-null  int32  \n",
      " 16  Firefox      874428 non-null  int32  \n",
      " 17  IE           874428 non-null  int32  \n",
      " 18  Opera        874428 non-null  int32  \n",
      " 19  Safari       874428 non-null  int32  \n",
      " 20  unknown      874428 non-null  int32  \n",
      " 21  Mobile       874428 non-null  int32  \n",
      " 22  Tablet       874428 non-null  int32  \n",
      " 23  missing      874428 non-null  int32  \n",
      "dtypes: float64(4), int32(16), int64(4)\n",
      "memory usage: 106.7 MB\n"
     ]
    }
   ],
   "source": [
    "X_res.info()"
   ]
  },
  {
   "cell_type": "code",
   "execution_count": null,
   "id": "f7f9c3da-e248-41f4-91f3-34dd3c9612e5",
   "metadata": {},
   "outputs": [],
   "source": []
  },
  {
   "cell_type": "code",
   "execution_count": 66,
   "id": "a5b8d32d-dd4a-4fea-b228-3b26c117b19c",
   "metadata": {},
   "outputs": [
    {
     "data": {
      "text/html": [
       "<div>\n",
       "<style scoped>\n",
       "    .dataframe tbody tr th:only-of-type {\n",
       "        vertical-align: middle;\n",
       "    }\n",
       "\n",
       "    .dataframe tbody tr th {\n",
       "        vertical-align: top;\n",
       "    }\n",
       "\n",
       "    .dataframe thead th {\n",
       "        text-align: right;\n",
       "    }\n",
       "</style>\n",
       "<table border=\"1\" class=\"dataframe\">\n",
       "  <thead>\n",
       "    <tr style=\"text-align: right;\">\n",
       "      <th></th>\n",
       "      <th>siteid</th>\n",
       "      <th>offerid</th>\n",
       "      <th>category</th>\n",
       "      <th>merchant</th>\n",
       "      <th>click</th>\n",
       "      <th>hour</th>\n",
       "      <th>minutes</th>\n",
       "      <th>seconds</th>\n",
       "      <th>day_of_week</th>\n",
       "      <th>week_end</th>\n",
       "      <th>...</th>\n",
       "      <th>F</th>\n",
       "      <th>Edge</th>\n",
       "      <th>Firefox</th>\n",
       "      <th>IE</th>\n",
       "      <th>Opera</th>\n",
       "      <th>Safari</th>\n",
       "      <th>unknown</th>\n",
       "      <th>Mobile</th>\n",
       "      <th>Tablet</th>\n",
       "      <th>missing</th>\n",
       "    </tr>\n",
       "  </thead>\n",
       "  <tbody>\n",
       "    <tr>\n",
       "      <th>0</th>\n",
       "      <td>0.013966</td>\n",
       "      <td>0.009398</td>\n",
       "      <td>0.025282</td>\n",
       "      <td>0.035296</td>\n",
       "      <td>0</td>\n",
       "      <td>9</td>\n",
       "      <td>42</td>\n",
       "      <td>9</td>\n",
       "      <td>5</td>\n",
       "      <td>0</td>\n",
       "      <td>...</td>\n",
       "      <td>0</td>\n",
       "      <td>0</td>\n",
       "      <td>1</td>\n",
       "      <td>0</td>\n",
       "      <td>0</td>\n",
       "      <td>0</td>\n",
       "      <td>0</td>\n",
       "      <td>0</td>\n",
       "      <td>0</td>\n",
       "      <td>1</td>\n",
       "    </tr>\n",
       "    <tr>\n",
       "      <th>1</th>\n",
       "      <td>0.000000</td>\n",
       "      <td>0.008865</td>\n",
       "      <td>0.026070</td>\n",
       "      <td>0.015654</td>\n",
       "      <td>0</td>\n",
       "      <td>17</td>\n",
       "      <td>50</td>\n",
       "      <td>53</td>\n",
       "      <td>2</td>\n",
       "      <td>0</td>\n",
       "      <td>...</td>\n",
       "      <td>0</td>\n",
       "      <td>0</td>\n",
       "      <td>1</td>\n",
       "      <td>0</td>\n",
       "      <td>0</td>\n",
       "      <td>0</td>\n",
       "      <td>0</td>\n",
       "      <td>0</td>\n",
       "      <td>0</td>\n",
       "      <td>0</td>\n",
       "    </tr>\n",
       "    <tr>\n",
       "      <th>2</th>\n",
       "      <td>0.000000</td>\n",
       "      <td>0.000000</td>\n",
       "      <td>0.034097</td>\n",
       "      <td>0.022760</td>\n",
       "      <td>0</td>\n",
       "      <td>12</td>\n",
       "      <td>46</td>\n",
       "      <td>49</td>\n",
       "      <td>2</td>\n",
       "      <td>0</td>\n",
       "      <td>...</td>\n",
       "      <td>0</td>\n",
       "      <td>1</td>\n",
       "      <td>0</td>\n",
       "      <td>0</td>\n",
       "      <td>0</td>\n",
       "      <td>0</td>\n",
       "      <td>0</td>\n",
       "      <td>0</td>\n",
       "      <td>0</td>\n",
       "      <td>1</td>\n",
       "    </tr>\n",
       "    <tr>\n",
       "      <th>3</th>\n",
       "      <td>0.015323</td>\n",
       "      <td>0.000000</td>\n",
       "      <td>0.013608</td>\n",
       "      <td>0.037653</td>\n",
       "      <td>0</td>\n",
       "      <td>10</td>\n",
       "      <td>18</td>\n",
       "      <td>43</td>\n",
       "      <td>1</td>\n",
       "      <td>0</td>\n",
       "      <td>...</td>\n",
       "      <td>0</td>\n",
       "      <td>0</td>\n",
       "      <td>1</td>\n",
       "      <td>0</td>\n",
       "      <td>0</td>\n",
       "      <td>0</td>\n",
       "      <td>0</td>\n",
       "      <td>1</td>\n",
       "      <td>0</td>\n",
       "      <td>0</td>\n",
       "    </tr>\n",
       "    <tr>\n",
       "      <th>4</th>\n",
       "      <td>0.002331</td>\n",
       "      <td>0.000000</td>\n",
       "      <td>0.049339</td>\n",
       "      <td>0.022627</td>\n",
       "      <td>0</td>\n",
       "      <td>16</td>\n",
       "      <td>2</td>\n",
       "      <td>33</td>\n",
       "      <td>5</td>\n",
       "      <td>0</td>\n",
       "      <td>...</td>\n",
       "      <td>0</td>\n",
       "      <td>0</td>\n",
       "      <td>1</td>\n",
       "      <td>0</td>\n",
       "      <td>0</td>\n",
       "      <td>0</td>\n",
       "      <td>0</td>\n",
       "      <td>0</td>\n",
       "      <td>0</td>\n",
       "      <td>0</td>\n",
       "    </tr>\n",
       "  </tbody>\n",
       "</table>\n",
       "<p>5 rows × 25 columns</p>\n",
       "</div>"
      ],
      "text/plain": [
       "     siteid   offerid  category  merchant  click  hour  minutes  seconds  \\\n",
       "0  0.013966  0.009398  0.025282  0.035296      0     9       42        9   \n",
       "1  0.000000  0.008865  0.026070  0.015654      0    17       50       53   \n",
       "2  0.000000  0.000000  0.034097  0.022760      0    12       46       49   \n",
       "3  0.015323  0.000000  0.013608  0.037653      0    10       18       43   \n",
       "4  0.002331  0.000000  0.049339  0.022627      0    16        2       33   \n",
       "\n",
       "   day_of_week  week_end  ...  F  Edge  Firefox  IE  Opera  Safari  unknown  \\\n",
       "0            5         0  ...  0     0        1   0      0       0        0   \n",
       "1            2         0  ...  0     0        1   0      0       0        0   \n",
       "2            2         0  ...  0     1        0   0      0       0        0   \n",
       "3            1         0  ...  0     0        1   0      0       0        0   \n",
       "4            5         0  ...  0     0        1   0      0       0        0   \n",
       "\n",
       "   Mobile  Tablet  missing  \n",
       "0       0       0        1  \n",
       "1       0       0        0  \n",
       "2       0       0        1  \n",
       "3       1       0        0  \n",
       "4       0       0        0  \n",
       "\n",
       "[5 rows x 25 columns]"
      ]
     },
     "execution_count": 66,
     "metadata": {},
     "output_type": "execute_result"
    }
   ],
   "source": [
    "train.head()"
   ]
  },
  {
   "cell_type": "code",
   "execution_count": null,
   "id": "49e2bc46-7092-4fd3-ad16-a3d5e11b6ecd",
   "metadata": {},
   "outputs": [],
   "source": []
  },
  {
   "cell_type": "code",
   "execution_count": 67,
   "id": "da4ef0de-b141-4de6-ada6-974959387524",
   "metadata": {},
   "outputs": [
    {
     "data": {
      "text/html": [
       "<div>\n",
       "<style scoped>\n",
       "    .dataframe tbody tr th:only-of-type {\n",
       "        vertical-align: middle;\n",
       "    }\n",
       "\n",
       "    .dataframe tbody tr th {\n",
       "        vertical-align: top;\n",
       "    }\n",
       "\n",
       "    .dataframe thead th {\n",
       "        text-align: right;\n",
       "    }\n",
       "</style>\n",
       "<table border=\"1\" class=\"dataframe\">\n",
       "  <thead>\n",
       "    <tr style=\"text-align: right;\">\n",
       "      <th></th>\n",
       "      <th>siteid</th>\n",
       "      <th>offerid</th>\n",
       "      <th>category</th>\n",
       "      <th>merchant</th>\n",
       "      <th>hour</th>\n",
       "      <th>minutes</th>\n",
       "      <th>seconds</th>\n",
       "      <th>day_of_week</th>\n",
       "      <th>week_end</th>\n",
       "      <th>hour_status</th>\n",
       "      <th>...</th>\n",
       "      <th>Edge</th>\n",
       "      <th>Firefox</th>\n",
       "      <th>IE</th>\n",
       "      <th>Opera</th>\n",
       "      <th>Safari</th>\n",
       "      <th>unknown</th>\n",
       "      <th>Mobile</th>\n",
       "      <th>Tablet</th>\n",
       "      <th>missing</th>\n",
       "      <th>click</th>\n",
       "    </tr>\n",
       "  </thead>\n",
       "  <tbody>\n",
       "    <tr>\n",
       "      <th>0</th>\n",
       "      <td>0.130495</td>\n",
       "      <td>0.002475</td>\n",
       "      <td>0.025040</td>\n",
       "      <td>0.020626</td>\n",
       "      <td>23</td>\n",
       "      <td>19</td>\n",
       "      <td>3</td>\n",
       "      <td>1</td>\n",
       "      <td>0</td>\n",
       "      <td>3</td>\n",
       "      <td>...</td>\n",
       "      <td>0</td>\n",
       "      <td>0</td>\n",
       "      <td>1</td>\n",
       "      <td>0</td>\n",
       "      <td>0</td>\n",
       "      <td>0</td>\n",
       "      <td>0</td>\n",
       "      <td>0</td>\n",
       "      <td>0</td>\n",
       "      <td>0</td>\n",
       "    </tr>\n",
       "    <tr>\n",
       "      <th>1</th>\n",
       "      <td>0.130495</td>\n",
       "      <td>0.000000</td>\n",
       "      <td>0.025040</td>\n",
       "      <td>0.035296</td>\n",
       "      <td>20</td>\n",
       "      <td>52</td>\n",
       "      <td>20</td>\n",
       "      <td>1</td>\n",
       "      <td>0</td>\n",
       "      <td>1</td>\n",
       "      <td>...</td>\n",
       "      <td>0</td>\n",
       "      <td>0</td>\n",
       "      <td>1</td>\n",
       "      <td>0</td>\n",
       "      <td>0</td>\n",
       "      <td>0</td>\n",
       "      <td>0</td>\n",
       "      <td>0</td>\n",
       "      <td>0</td>\n",
       "      <td>0</td>\n",
       "    </tr>\n",
       "    <tr>\n",
       "      <th>2</th>\n",
       "      <td>0.000000</td>\n",
       "      <td>0.043478</td>\n",
       "      <td>0.042724</td>\n",
       "      <td>0.033162</td>\n",
       "      <td>18</td>\n",
       "      <td>18</td>\n",
       "      <td>39</td>\n",
       "      <td>1</td>\n",
       "      <td>0</td>\n",
       "      <td>1</td>\n",
       "      <td>...</td>\n",
       "      <td>0</td>\n",
       "      <td>0</td>\n",
       "      <td>0</td>\n",
       "      <td>0</td>\n",
       "      <td>0</td>\n",
       "      <td>0</td>\n",
       "      <td>1</td>\n",
       "      <td>0</td>\n",
       "      <td>0</td>\n",
       "      <td>0</td>\n",
       "    </tr>\n",
       "    <tr>\n",
       "      <th>3</th>\n",
       "      <td>0.035882</td>\n",
       "      <td>0.007105</td>\n",
       "      <td>0.025040</td>\n",
       "      <td>0.024235</td>\n",
       "      <td>9</td>\n",
       "      <td>57</td>\n",
       "      <td>42</td>\n",
       "      <td>3</td>\n",
       "      <td>0</td>\n",
       "      <td>2</td>\n",
       "      <td>...</td>\n",
       "      <td>0</td>\n",
       "      <td>0</td>\n",
       "      <td>0</td>\n",
       "      <td>0</td>\n",
       "      <td>0</td>\n",
       "      <td>0</td>\n",
       "      <td>1</td>\n",
       "      <td>0</td>\n",
       "      <td>0</td>\n",
       "      <td>0</td>\n",
       "    </tr>\n",
       "    <tr>\n",
       "      <th>4</th>\n",
       "      <td>0.052419</td>\n",
       "      <td>0.005970</td>\n",
       "      <td>0.013608</td>\n",
       "      <td>0.006310</td>\n",
       "      <td>12</td>\n",
       "      <td>50</td>\n",
       "      <td>28</td>\n",
       "      <td>4</td>\n",
       "      <td>0</td>\n",
       "      <td>0</td>\n",
       "      <td>...</td>\n",
       "      <td>0</td>\n",
       "      <td>0</td>\n",
       "      <td>0</td>\n",
       "      <td>0</td>\n",
       "      <td>0</td>\n",
       "      <td>0</td>\n",
       "      <td>1</td>\n",
       "      <td>0</td>\n",
       "      <td>0</td>\n",
       "      <td>0</td>\n",
       "    </tr>\n",
       "  </tbody>\n",
       "</table>\n",
       "<p>5 rows × 25 columns</p>\n",
       "</div>"
      ],
      "text/plain": [
       "     siteid   offerid  category  merchant  hour  minutes  seconds  \\\n",
       "0  0.130495  0.002475  0.025040  0.020626    23       19        3   \n",
       "1  0.130495  0.000000  0.025040  0.035296    20       52       20   \n",
       "2  0.000000  0.043478  0.042724  0.033162    18       18       39   \n",
       "3  0.035882  0.007105  0.025040  0.024235     9       57       42   \n",
       "4  0.052419  0.005970  0.013608  0.006310    12       50       28   \n",
       "\n",
       "   day_of_week  week_end  hour_status  ...  Edge  Firefox  IE  Opera  Safari  \\\n",
       "0            1         0            3  ...     0        0   1      0       0   \n",
       "1            1         0            1  ...     0        0   1      0       0   \n",
       "2            1         0            1  ...     0        0   0      0       0   \n",
       "3            3         0            2  ...     0        0   0      0       0   \n",
       "4            4         0            0  ...     0        0   0      0       0   \n",
       "\n",
       "   unknown  Mobile  Tablet  missing  click  \n",
       "0        0       0       0        0      0  \n",
       "1        0       0       0        0      0  \n",
       "2        0       1       0        0      0  \n",
       "3        0       1       0        0      0  \n",
       "4        0       1       0        0      0  \n",
       "\n",
       "[5 rows x 25 columns]"
      ]
     },
     "execution_count": 67,
     "metadata": {},
     "output_type": "execute_result"
    }
   ],
   "source": [
    "train2.head()"
   ]
  },
  {
   "cell_type": "code",
   "execution_count": 68,
   "id": "d31f99d2-9d1c-4eea-995b-80006168d033",
   "metadata": {},
   "outputs": [
    {
     "data": {
      "text/plain": [
       "71429"
      ]
     },
     "execution_count": 68,
     "metadata": {},
     "output_type": "execute_result"
    }
   ],
   "source": [
    "train2['siteid'].value_counts()[0]"
   ]
  },
  {
   "cell_type": "markdown",
   "id": "e5d5025d-d54f-4258-866b-69e380cfaaeb",
   "metadata": {},
   "source": [
    "### Feature Scaling"
   ]
  },
  {
   "cell_type": "code",
   "execution_count": 70,
   "id": "89abf8a6-1b44-4547-9c21-5a0f8248b4fe",
   "metadata": {},
   "outputs": [],
   "source": [
    "from sklearn.preprocessing import MinMaxScaler\n",
    "from sklearn.preprocessing import StandardScaler\n",
    "from sklearn.preprocessing import RobustScaler"
   ]
  },
  {
   "cell_type": "code",
   "execution_count": 71,
   "id": "4c8e8869-85e8-4b99-8675-7065d36ad9c0",
   "metadata": {},
   "outputs": [],
   "source": [
    "mms = MinMaxScaler()\n",
    "ss = StandardScaler()\n",
    "rs = RobustScaler()"
   ]
  },
  {
   "cell_type": "code",
   "execution_count": 72,
   "id": "1ddab8db-82a7-4b5b-b4df-ccbbd8af3fbd",
   "metadata": {},
   "outputs": [
    {
     "data": {
      "text/plain": [
       "Index(['siteid', 'offerid', 'category', 'merchant', 'hour', 'minutes',\n",
       "       'seconds', 'day_of_week', 'week_end', 'hour_status', 'B', 'C', 'D', 'E',\n",
       "       'F', 'Edge', 'Firefox', 'IE', 'Opera', 'Safari', 'unknown', 'Mobile',\n",
       "       'Tablet', 'missing', 'click'],\n",
       "      dtype='object')"
      ]
     },
     "execution_count": 72,
     "metadata": {},
     "output_type": "execute_result"
    }
   ],
   "source": [
    "train2.columns"
   ]
  },
  {
   "cell_type": "code",
   "execution_count": 73,
   "id": "635b0575-8c5e-4ce5-a17f-ac5cbc7ca4b8",
   "metadata": {},
   "outputs": [
    {
     "data": {
      "text/html": [
       "<div>\n",
       "<style scoped>\n",
       "    .dataframe tbody tr th:only-of-type {\n",
       "        vertical-align: middle;\n",
       "    }\n",
       "\n",
       "    .dataframe tbody tr th {\n",
       "        vertical-align: top;\n",
       "    }\n",
       "\n",
       "    .dataframe thead th {\n",
       "        text-align: right;\n",
       "    }\n",
       "</style>\n",
       "<table border=\"1\" class=\"dataframe\">\n",
       "  <thead>\n",
       "    <tr style=\"text-align: right;\">\n",
       "      <th></th>\n",
       "      <th>siteid</th>\n",
       "      <th>offerid</th>\n",
       "      <th>category</th>\n",
       "      <th>merchant</th>\n",
       "      <th>hour</th>\n",
       "      <th>minutes</th>\n",
       "      <th>seconds</th>\n",
       "      <th>day_of_week</th>\n",
       "      <th>week_end</th>\n",
       "      <th>hour_status</th>\n",
       "      <th>...</th>\n",
       "      <th>Edge</th>\n",
       "      <th>Firefox</th>\n",
       "      <th>IE</th>\n",
       "      <th>Opera</th>\n",
       "      <th>Safari</th>\n",
       "      <th>unknown</th>\n",
       "      <th>Mobile</th>\n",
       "      <th>Tablet</th>\n",
       "      <th>missing</th>\n",
       "      <th>click</th>\n",
       "    </tr>\n",
       "  </thead>\n",
       "  <tbody>\n",
       "    <tr>\n",
       "      <th>0</th>\n",
       "      <td>0.130495</td>\n",
       "      <td>0.002475</td>\n",
       "      <td>0.025040</td>\n",
       "      <td>0.020626</td>\n",
       "      <td>23</td>\n",
       "      <td>19</td>\n",
       "      <td>3</td>\n",
       "      <td>1</td>\n",
       "      <td>0</td>\n",
       "      <td>3</td>\n",
       "      <td>...</td>\n",
       "      <td>0</td>\n",
       "      <td>0</td>\n",
       "      <td>1</td>\n",
       "      <td>0</td>\n",
       "      <td>0</td>\n",
       "      <td>0</td>\n",
       "      <td>0</td>\n",
       "      <td>0</td>\n",
       "      <td>0</td>\n",
       "      <td>0</td>\n",
       "    </tr>\n",
       "    <tr>\n",
       "      <th>1</th>\n",
       "      <td>0.130495</td>\n",
       "      <td>0.000000</td>\n",
       "      <td>0.025040</td>\n",
       "      <td>0.035296</td>\n",
       "      <td>20</td>\n",
       "      <td>52</td>\n",
       "      <td>20</td>\n",
       "      <td>1</td>\n",
       "      <td>0</td>\n",
       "      <td>1</td>\n",
       "      <td>...</td>\n",
       "      <td>0</td>\n",
       "      <td>0</td>\n",
       "      <td>1</td>\n",
       "      <td>0</td>\n",
       "      <td>0</td>\n",
       "      <td>0</td>\n",
       "      <td>0</td>\n",
       "      <td>0</td>\n",
       "      <td>0</td>\n",
       "      <td>0</td>\n",
       "    </tr>\n",
       "    <tr>\n",
       "      <th>2</th>\n",
       "      <td>0.000000</td>\n",
       "      <td>0.043478</td>\n",
       "      <td>0.042724</td>\n",
       "      <td>0.033162</td>\n",
       "      <td>18</td>\n",
       "      <td>18</td>\n",
       "      <td>39</td>\n",
       "      <td>1</td>\n",
       "      <td>0</td>\n",
       "      <td>1</td>\n",
       "      <td>...</td>\n",
       "      <td>0</td>\n",
       "      <td>0</td>\n",
       "      <td>0</td>\n",
       "      <td>0</td>\n",
       "      <td>0</td>\n",
       "      <td>0</td>\n",
       "      <td>1</td>\n",
       "      <td>0</td>\n",
       "      <td>0</td>\n",
       "      <td>0</td>\n",
       "    </tr>\n",
       "    <tr>\n",
       "      <th>3</th>\n",
       "      <td>0.035882</td>\n",
       "      <td>0.007105</td>\n",
       "      <td>0.025040</td>\n",
       "      <td>0.024235</td>\n",
       "      <td>9</td>\n",
       "      <td>57</td>\n",
       "      <td>42</td>\n",
       "      <td>3</td>\n",
       "      <td>0</td>\n",
       "      <td>2</td>\n",
       "      <td>...</td>\n",
       "      <td>0</td>\n",
       "      <td>0</td>\n",
       "      <td>0</td>\n",
       "      <td>0</td>\n",
       "      <td>0</td>\n",
       "      <td>0</td>\n",
       "      <td>1</td>\n",
       "      <td>0</td>\n",
       "      <td>0</td>\n",
       "      <td>0</td>\n",
       "    </tr>\n",
       "    <tr>\n",
       "      <th>4</th>\n",
       "      <td>0.052419</td>\n",
       "      <td>0.005970</td>\n",
       "      <td>0.013608</td>\n",
       "      <td>0.006310</td>\n",
       "      <td>12</td>\n",
       "      <td>50</td>\n",
       "      <td>28</td>\n",
       "      <td>4</td>\n",
       "      <td>0</td>\n",
       "      <td>0</td>\n",
       "      <td>...</td>\n",
       "      <td>0</td>\n",
       "      <td>0</td>\n",
       "      <td>0</td>\n",
       "      <td>0</td>\n",
       "      <td>0</td>\n",
       "      <td>0</td>\n",
       "      <td>1</td>\n",
       "      <td>0</td>\n",
       "      <td>0</td>\n",
       "      <td>0</td>\n",
       "    </tr>\n",
       "  </tbody>\n",
       "</table>\n",
       "<p>5 rows × 25 columns</p>\n",
       "</div>"
      ],
      "text/plain": [
       "     siteid   offerid  category  merchant  hour  minutes  seconds  \\\n",
       "0  0.130495  0.002475  0.025040  0.020626    23       19        3   \n",
       "1  0.130495  0.000000  0.025040  0.035296    20       52       20   \n",
       "2  0.000000  0.043478  0.042724  0.033162    18       18       39   \n",
       "3  0.035882  0.007105  0.025040  0.024235     9       57       42   \n",
       "4  0.052419  0.005970  0.013608  0.006310    12       50       28   \n",
       "\n",
       "   day_of_week  week_end  hour_status  ...  Edge  Firefox  IE  Opera  Safari  \\\n",
       "0            1         0            3  ...     0        0   1      0       0   \n",
       "1            1         0            1  ...     0        0   1      0       0   \n",
       "2            1         0            1  ...     0        0   0      0       0   \n",
       "3            3         0            2  ...     0        0   0      0       0   \n",
       "4            4         0            0  ...     0        0   0      0       0   \n",
       "\n",
       "   unknown  Mobile  Tablet  missing  click  \n",
       "0        0       0       0        0      0  \n",
       "1        0       0       0        0      0  \n",
       "2        0       1       0        0      0  \n",
       "3        0       1       0        0      0  \n",
       "4        0       1       0        0      0  \n",
       "\n",
       "[5 rows x 25 columns]"
      ]
     },
     "execution_count": 73,
     "metadata": {},
     "output_type": "execute_result"
    }
   ],
   "source": [
    "train2.head()"
   ]
  },
  {
   "cell_type": "code",
   "execution_count": 74,
   "id": "23a3fc92-e8db-40ee-a254-ea8acc779270",
   "metadata": {},
   "outputs": [],
   "source": [
    "scaling_var = ['siteid', 'offerid', 'category', 'merchant', 'hour', 'minutes',\n",
    "       'seconds', 'day_of_week', 'week_end', 'hour_status']"
   ]
  },
  {
   "cell_type": "code",
   "execution_count": 75,
   "id": "2e3b905e-d9a3-4a84-9deb-2800cb43a9cc",
   "metadata": {},
   "outputs": [],
   "source": [
    "for feature in scaling_var:\n",
    "    model = ss.fit(train2[[feature]])\n",
    "    train2[feature] = model.transform(train2[[feature]])"
   ]
  },
  {
   "cell_type": "markdown",
   "id": "ea96d8ab-b113-4848-abc7-7337cbc6b1ed",
   "metadata": {},
   "source": [
    "train2.head()"
   ]
  },
  {
   "cell_type": "markdown",
   "id": "b5dcc92c-d834-454d-8513-438e4ac2e277",
   "metadata": {},
   "source": [
    "#### feature selection"
   ]
  },
  {
   "cell_type": "code",
   "execution_count": 76,
   "id": "1a62e0a3-e810-47dd-b936-1d469d9136c4",
   "metadata": {},
   "outputs": [
    {
     "data": {
      "text/plain": [
       "25"
      ]
     },
     "execution_count": 76,
     "metadata": {},
     "output_type": "execute_result"
    }
   ],
   "source": [
    "len(train2.columns)"
   ]
  },
  {
   "cell_type": "markdown",
   "id": "90d91be9-e937-43c9-886f-7c317f3cb73d",
   "metadata": {},
   "source": [
    "#### model training\n"
   ]
  },
  {
   "cell_type": "code",
   "execution_count": 77,
   "id": "26dfd9c1-4702-4129-8649-27c0a100520e",
   "metadata": {},
   "outputs": [],
   "source": [
    "import xgboost as xgb\n",
    "from sklearn.model_selection import train_test_split"
   ]
  },
  {
   "cell_type": "code",
   "execution_count": 78,
   "id": "d7e1bc38-a09b-42a7-bad0-62856d3f8585",
   "metadata": {},
   "outputs": [
    {
     "data": {
      "text/html": [
       "<div>\n",
       "<style scoped>\n",
       "    .dataframe tbody tr th:only-of-type {\n",
       "        vertical-align: middle;\n",
       "    }\n",
       "\n",
       "    .dataframe tbody tr th {\n",
       "        vertical-align: top;\n",
       "    }\n",
       "\n",
       "    .dataframe thead th {\n",
       "        text-align: right;\n",
       "    }\n",
       "</style>\n",
       "<table border=\"1\" class=\"dataframe\">\n",
       "  <thead>\n",
       "    <tr style=\"text-align: right;\">\n",
       "      <th></th>\n",
       "      <th>siteid</th>\n",
       "      <th>offerid</th>\n",
       "      <th>category</th>\n",
       "      <th>merchant</th>\n",
       "      <th>hour</th>\n",
       "      <th>minutes</th>\n",
       "      <th>seconds</th>\n",
       "      <th>day_of_week</th>\n",
       "      <th>week_end</th>\n",
       "      <th>hour_status</th>\n",
       "      <th>...</th>\n",
       "      <th>Edge</th>\n",
       "      <th>Firefox</th>\n",
       "      <th>IE</th>\n",
       "      <th>Opera</th>\n",
       "      <th>Safari</th>\n",
       "      <th>unknown</th>\n",
       "      <th>Mobile</th>\n",
       "      <th>Tablet</th>\n",
       "      <th>missing</th>\n",
       "      <th>click</th>\n",
       "    </tr>\n",
       "  </thead>\n",
       "  <tbody>\n",
       "    <tr>\n",
       "      <th>0</th>\n",
       "      <td>-0.338023</td>\n",
       "      <td>-0.670048</td>\n",
       "      <td>-0.419068</td>\n",
       "      <td>-0.476396</td>\n",
       "      <td>2.155174</td>\n",
       "      <td>-0.640340</td>\n",
       "      <td>-1.541205</td>\n",
       "      <td>-1.111547</td>\n",
       "      <td>-0.369785</td>\n",
       "      <td>1.896858</td>\n",
       "      <td>...</td>\n",
       "      <td>0</td>\n",
       "      <td>0</td>\n",
       "      <td>1</td>\n",
       "      <td>0</td>\n",
       "      <td>0</td>\n",
       "      <td>0</td>\n",
       "      <td>0</td>\n",
       "      <td>0</td>\n",
       "      <td>0</td>\n",
       "      <td>0</td>\n",
       "    </tr>\n",
       "    <tr>\n",
       "      <th>1</th>\n",
       "      <td>-0.338023</td>\n",
       "      <td>-0.681382</td>\n",
       "      <td>-0.419068</td>\n",
       "      <td>-0.206656</td>\n",
       "      <td>1.466926</td>\n",
       "      <td>1.266857</td>\n",
       "      <td>-0.555248</td>\n",
       "      <td>-1.111547</td>\n",
       "      <td>-0.369785</td>\n",
       "      <td>-0.047085</td>\n",
       "      <td>...</td>\n",
       "      <td>0</td>\n",
       "      <td>0</td>\n",
       "      <td>1</td>\n",
       "      <td>0</td>\n",
       "      <td>0</td>\n",
       "      <td>0</td>\n",
       "      <td>0</td>\n",
       "      <td>0</td>\n",
       "      <td>0</td>\n",
       "      <td>0</td>\n",
       "    </tr>\n",
       "    <tr>\n",
       "      <th>2</th>\n",
       "      <td>-0.655823</td>\n",
       "      <td>-0.482299</td>\n",
       "      <td>0.013685</td>\n",
       "      <td>-0.245883</td>\n",
       "      <td>1.008094</td>\n",
       "      <td>-0.698134</td>\n",
       "      <td>0.546704</td>\n",
       "      <td>-1.111547</td>\n",
       "      <td>-0.369785</td>\n",
       "      <td>-0.047085</td>\n",
       "      <td>...</td>\n",
       "      <td>0</td>\n",
       "      <td>0</td>\n",
       "      <td>0</td>\n",
       "      <td>0</td>\n",
       "      <td>0</td>\n",
       "      <td>0</td>\n",
       "      <td>1</td>\n",
       "      <td>0</td>\n",
       "      <td>0</td>\n",
       "      <td>0</td>\n",
       "    </tr>\n",
       "    <tr>\n",
       "      <th>3</th>\n",
       "      <td>-0.568439</td>\n",
       "      <td>-0.648850</td>\n",
       "      <td>-0.419068</td>\n",
       "      <td>-0.410040</td>\n",
       "      <td>-1.056650</td>\n",
       "      <td>1.555827</td>\n",
       "      <td>0.720696</td>\n",
       "      <td>0.132122</td>\n",
       "      <td>-0.369785</td>\n",
       "      <td>0.924886</td>\n",
       "      <td>...</td>\n",
       "      <td>0</td>\n",
       "      <td>0</td>\n",
       "      <td>0</td>\n",
       "      <td>0</td>\n",
       "      <td>0</td>\n",
       "      <td>0</td>\n",
       "      <td>1</td>\n",
       "      <td>0</td>\n",
       "      <td>0</td>\n",
       "      <td>0</td>\n",
       "    </tr>\n",
       "    <tr>\n",
       "      <th>4</th>\n",
       "      <td>-0.528164</td>\n",
       "      <td>-0.654047</td>\n",
       "      <td>-0.698796</td>\n",
       "      <td>-0.739641</td>\n",
       "      <td>-0.368402</td>\n",
       "      <td>1.151270</td>\n",
       "      <td>-0.091269</td>\n",
       "      <td>0.753957</td>\n",
       "      <td>-0.369785</td>\n",
       "      <td>-1.019057</td>\n",
       "      <td>...</td>\n",
       "      <td>0</td>\n",
       "      <td>0</td>\n",
       "      <td>0</td>\n",
       "      <td>0</td>\n",
       "      <td>0</td>\n",
       "      <td>0</td>\n",
       "      <td>1</td>\n",
       "      <td>0</td>\n",
       "      <td>0</td>\n",
       "      <td>0</td>\n",
       "    </tr>\n",
       "  </tbody>\n",
       "</table>\n",
       "<p>5 rows × 25 columns</p>\n",
       "</div>"
      ],
      "text/plain": [
       "     siteid   offerid  category  merchant      hour   minutes   seconds  \\\n",
       "0 -0.338023 -0.670048 -0.419068 -0.476396  2.155174 -0.640340 -1.541205   \n",
       "1 -0.338023 -0.681382 -0.419068 -0.206656  1.466926  1.266857 -0.555248   \n",
       "2 -0.655823 -0.482299  0.013685 -0.245883  1.008094 -0.698134  0.546704   \n",
       "3 -0.568439 -0.648850 -0.419068 -0.410040 -1.056650  1.555827  0.720696   \n",
       "4 -0.528164 -0.654047 -0.698796 -0.739641 -0.368402  1.151270 -0.091269   \n",
       "\n",
       "   day_of_week  week_end  hour_status  ...  Edge  Firefox  IE  Opera  Safari  \\\n",
       "0    -1.111547 -0.369785     1.896858  ...     0        0   1      0       0   \n",
       "1    -1.111547 -0.369785    -0.047085  ...     0        0   1      0       0   \n",
       "2    -1.111547 -0.369785    -0.047085  ...     0        0   0      0       0   \n",
       "3     0.132122 -0.369785     0.924886  ...     0        0   0      0       0   \n",
       "4     0.753957 -0.369785    -1.019057  ...     0        0   0      0       0   \n",
       "\n",
       "   unknown  Mobile  Tablet  missing  click  \n",
       "0        0       0       0        0      0  \n",
       "1        0       0       0        0      0  \n",
       "2        0       1       0        0      0  \n",
       "3        0       1       0        0      0  \n",
       "4        0       1       0        0      0  \n",
       "\n",
       "[5 rows x 25 columns]"
      ]
     },
     "execution_count": 78,
     "metadata": {},
     "output_type": "execute_result"
    }
   ],
   "source": [
    "train2.head()"
   ]
  },
  {
   "cell_type": "code",
   "execution_count": 79,
   "id": "7c023219-9b7b-4a44-a1c9-8528a8831c70",
   "metadata": {},
   "outputs": [],
   "source": [
    "X = train2.drop('click',axis = 'columns')"
   ]
  },
  {
   "cell_type": "code",
   "execution_count": 80,
   "id": "6fb01c7d-efee-406c-aecd-f0e615e8d810",
   "metadata": {},
   "outputs": [],
   "source": [
    "Y = train2['click']"
   ]
  },
  {
   "cell_type": "code",
   "execution_count": 81,
   "id": "d8f3b538-d996-4023-a817-170e539c4434",
   "metadata": {},
   "outputs": [],
   "source": [
    "x_train,x_test,y_train,y_test = train_test_split(X,Y)"
   ]
  },
  {
   "cell_type": "code",
   "execution_count": 82,
   "id": "90a90c5e-abc6-4680-a54d-eaf3c09dc49b",
   "metadata": {},
   "outputs": [
    {
     "data": {
      "text/plain": [
       "(218607, 24)"
      ]
     },
     "execution_count": 82,
     "metadata": {},
     "output_type": "execute_result"
    }
   ],
   "source": [
    "x_test.shape"
   ]
  },
  {
   "cell_type": "code",
   "execution_count": 85,
   "id": "e0e0445d-e462-43fc-9a76-2022d9fa6874",
   "metadata": {},
   "outputs": [],
   "source": [
    "xgb_model = xgb.XGBClassifier(objective=\"binary:logistic\", random_state=42)"
   ]
  },
  {
   "cell_type": "code",
   "execution_count": 86,
   "id": "4d4c4ebd-302b-498f-8ccf-79aeeca72653",
   "metadata": {},
   "outputs": [
    {
     "data": {
      "text/html": [
       "<style>#sk-container-id-1 {\n",
       "  /* Definition of color scheme common for light and dark mode */\n",
       "  --sklearn-color-text: black;\n",
       "  --sklearn-color-line: gray;\n",
       "  /* Definition of color scheme for unfitted estimators */\n",
       "  --sklearn-color-unfitted-level-0: #fff5e6;\n",
       "  --sklearn-color-unfitted-level-1: #f6e4d2;\n",
       "  --sklearn-color-unfitted-level-2: #ffe0b3;\n",
       "  --sklearn-color-unfitted-level-3: chocolate;\n",
       "  /* Definition of color scheme for fitted estimators */\n",
       "  --sklearn-color-fitted-level-0: #f0f8ff;\n",
       "  --sklearn-color-fitted-level-1: #d4ebff;\n",
       "  --sklearn-color-fitted-level-2: #b3dbfd;\n",
       "  --sklearn-color-fitted-level-3: cornflowerblue;\n",
       "\n",
       "  /* Specific color for light theme */\n",
       "  --sklearn-color-text-on-default-background: var(--sg-text-color, var(--theme-code-foreground, var(--jp-content-font-color1, black)));\n",
       "  --sklearn-color-background: var(--sg-background-color, var(--theme-background, var(--jp-layout-color0, white)));\n",
       "  --sklearn-color-border-box: var(--sg-text-color, var(--theme-code-foreground, var(--jp-content-font-color1, black)));\n",
       "  --sklearn-color-icon: #696969;\n",
       "\n",
       "  @media (prefers-color-scheme: dark) {\n",
       "    /* Redefinition of color scheme for dark theme */\n",
       "    --sklearn-color-text-on-default-background: var(--sg-text-color, var(--theme-code-foreground, var(--jp-content-font-color1, white)));\n",
       "    --sklearn-color-background: var(--sg-background-color, var(--theme-background, var(--jp-layout-color0, #111)));\n",
       "    --sklearn-color-border-box: var(--sg-text-color, var(--theme-code-foreground, var(--jp-content-font-color1, white)));\n",
       "    --sklearn-color-icon: #878787;\n",
       "  }\n",
       "}\n",
       "\n",
       "#sk-container-id-1 {\n",
       "  color: var(--sklearn-color-text);\n",
       "}\n",
       "\n",
       "#sk-container-id-1 pre {\n",
       "  padding: 0;\n",
       "}\n",
       "\n",
       "#sk-container-id-1 input.sk-hidden--visually {\n",
       "  border: 0;\n",
       "  clip: rect(1px 1px 1px 1px);\n",
       "  clip: rect(1px, 1px, 1px, 1px);\n",
       "  height: 1px;\n",
       "  margin: -1px;\n",
       "  overflow: hidden;\n",
       "  padding: 0;\n",
       "  position: absolute;\n",
       "  width: 1px;\n",
       "}\n",
       "\n",
       "#sk-container-id-1 div.sk-dashed-wrapped {\n",
       "  border: 1px dashed var(--sklearn-color-line);\n",
       "  margin: 0 0.4em 0.5em 0.4em;\n",
       "  box-sizing: border-box;\n",
       "  padding-bottom: 0.4em;\n",
       "  background-color: var(--sklearn-color-background);\n",
       "}\n",
       "\n",
       "#sk-container-id-1 div.sk-container {\n",
       "  /* jupyter's `normalize.less` sets `[hidden] { display: none; }`\n",
       "     but bootstrap.min.css set `[hidden] { display: none !important; }`\n",
       "     so we also need the `!important` here to be able to override the\n",
       "     default hidden behavior on the sphinx rendered scikit-learn.org.\n",
       "     See: https://github.com/scikit-learn/scikit-learn/issues/21755 */\n",
       "  display: inline-block !important;\n",
       "  position: relative;\n",
       "}\n",
       "\n",
       "#sk-container-id-1 div.sk-text-repr-fallback {\n",
       "  display: none;\n",
       "}\n",
       "\n",
       "div.sk-parallel-item,\n",
       "div.sk-serial,\n",
       "div.sk-item {\n",
       "  /* draw centered vertical line to link estimators */\n",
       "  background-image: linear-gradient(var(--sklearn-color-text-on-default-background), var(--sklearn-color-text-on-default-background));\n",
       "  background-size: 2px 100%;\n",
       "  background-repeat: no-repeat;\n",
       "  background-position: center center;\n",
       "}\n",
       "\n",
       "/* Parallel-specific style estimator block */\n",
       "\n",
       "#sk-container-id-1 div.sk-parallel-item::after {\n",
       "  content: \"\";\n",
       "  width: 100%;\n",
       "  border-bottom: 2px solid var(--sklearn-color-text-on-default-background);\n",
       "  flex-grow: 1;\n",
       "}\n",
       "\n",
       "#sk-container-id-1 div.sk-parallel {\n",
       "  display: flex;\n",
       "  align-items: stretch;\n",
       "  justify-content: center;\n",
       "  background-color: var(--sklearn-color-background);\n",
       "  position: relative;\n",
       "}\n",
       "\n",
       "#sk-container-id-1 div.sk-parallel-item {\n",
       "  display: flex;\n",
       "  flex-direction: column;\n",
       "}\n",
       "\n",
       "#sk-container-id-1 div.sk-parallel-item:first-child::after {\n",
       "  align-self: flex-end;\n",
       "  width: 50%;\n",
       "}\n",
       "\n",
       "#sk-container-id-1 div.sk-parallel-item:last-child::after {\n",
       "  align-self: flex-start;\n",
       "  width: 50%;\n",
       "}\n",
       "\n",
       "#sk-container-id-1 div.sk-parallel-item:only-child::after {\n",
       "  width: 0;\n",
       "}\n",
       "\n",
       "/* Serial-specific style estimator block */\n",
       "\n",
       "#sk-container-id-1 div.sk-serial {\n",
       "  display: flex;\n",
       "  flex-direction: column;\n",
       "  align-items: center;\n",
       "  background-color: var(--sklearn-color-background);\n",
       "  padding-right: 1em;\n",
       "  padding-left: 1em;\n",
       "}\n",
       "\n",
       "\n",
       "/* Toggleable style: style used for estimator/Pipeline/ColumnTransformer box that is\n",
       "clickable and can be expanded/collapsed.\n",
       "- Pipeline and ColumnTransformer use this feature and define the default style\n",
       "- Estimators will overwrite some part of the style using the `sk-estimator` class\n",
       "*/\n",
       "\n",
       "/* Pipeline and ColumnTransformer style (default) */\n",
       "\n",
       "#sk-container-id-1 div.sk-toggleable {\n",
       "  /* Default theme specific background. It is overwritten whether we have a\n",
       "  specific estimator or a Pipeline/ColumnTransformer */\n",
       "  background-color: var(--sklearn-color-background);\n",
       "}\n",
       "\n",
       "/* Toggleable label */\n",
       "#sk-container-id-1 label.sk-toggleable__label {\n",
       "  cursor: pointer;\n",
       "  display: block;\n",
       "  width: 100%;\n",
       "  margin-bottom: 0;\n",
       "  padding: 0.5em;\n",
       "  box-sizing: border-box;\n",
       "  text-align: center;\n",
       "}\n",
       "\n",
       "#sk-container-id-1 label.sk-toggleable__label-arrow:before {\n",
       "  /* Arrow on the left of the label */\n",
       "  content: \"▸\";\n",
       "  float: left;\n",
       "  margin-right: 0.25em;\n",
       "  color: var(--sklearn-color-icon);\n",
       "}\n",
       "\n",
       "#sk-container-id-1 label.sk-toggleable__label-arrow:hover:before {\n",
       "  color: var(--sklearn-color-text);\n",
       "}\n",
       "\n",
       "/* Toggleable content - dropdown */\n",
       "\n",
       "#sk-container-id-1 div.sk-toggleable__content {\n",
       "  max-height: 0;\n",
       "  max-width: 0;\n",
       "  overflow: hidden;\n",
       "  text-align: left;\n",
       "  /* unfitted */\n",
       "  background-color: var(--sklearn-color-unfitted-level-0);\n",
       "}\n",
       "\n",
       "#sk-container-id-1 div.sk-toggleable__content.fitted {\n",
       "  /* fitted */\n",
       "  background-color: var(--sklearn-color-fitted-level-0);\n",
       "}\n",
       "\n",
       "#sk-container-id-1 div.sk-toggleable__content pre {\n",
       "  margin: 0.2em;\n",
       "  border-radius: 0.25em;\n",
       "  color: var(--sklearn-color-text);\n",
       "  /* unfitted */\n",
       "  background-color: var(--sklearn-color-unfitted-level-0);\n",
       "}\n",
       "\n",
       "#sk-container-id-1 div.sk-toggleable__content.fitted pre {\n",
       "  /* unfitted */\n",
       "  background-color: var(--sklearn-color-fitted-level-0);\n",
       "}\n",
       "\n",
       "#sk-container-id-1 input.sk-toggleable__control:checked~div.sk-toggleable__content {\n",
       "  /* Expand drop-down */\n",
       "  max-height: 200px;\n",
       "  max-width: 100%;\n",
       "  overflow: auto;\n",
       "}\n",
       "\n",
       "#sk-container-id-1 input.sk-toggleable__control:checked~label.sk-toggleable__label-arrow:before {\n",
       "  content: \"▾\";\n",
       "}\n",
       "\n",
       "/* Pipeline/ColumnTransformer-specific style */\n",
       "\n",
       "#sk-container-id-1 div.sk-label input.sk-toggleable__control:checked~label.sk-toggleable__label {\n",
       "  color: var(--sklearn-color-text);\n",
       "  background-color: var(--sklearn-color-unfitted-level-2);\n",
       "}\n",
       "\n",
       "#sk-container-id-1 div.sk-label.fitted input.sk-toggleable__control:checked~label.sk-toggleable__label {\n",
       "  background-color: var(--sklearn-color-fitted-level-2);\n",
       "}\n",
       "\n",
       "/* Estimator-specific style */\n",
       "\n",
       "/* Colorize estimator box */\n",
       "#sk-container-id-1 div.sk-estimator input.sk-toggleable__control:checked~label.sk-toggleable__label {\n",
       "  /* unfitted */\n",
       "  background-color: var(--sklearn-color-unfitted-level-2);\n",
       "}\n",
       "\n",
       "#sk-container-id-1 div.sk-estimator.fitted input.sk-toggleable__control:checked~label.sk-toggleable__label {\n",
       "  /* fitted */\n",
       "  background-color: var(--sklearn-color-fitted-level-2);\n",
       "}\n",
       "\n",
       "#sk-container-id-1 div.sk-label label.sk-toggleable__label,\n",
       "#sk-container-id-1 div.sk-label label {\n",
       "  /* The background is the default theme color */\n",
       "  color: var(--sklearn-color-text-on-default-background);\n",
       "}\n",
       "\n",
       "/* On hover, darken the color of the background */\n",
       "#sk-container-id-1 div.sk-label:hover label.sk-toggleable__label {\n",
       "  color: var(--sklearn-color-text);\n",
       "  background-color: var(--sklearn-color-unfitted-level-2);\n",
       "}\n",
       "\n",
       "/* Label box, darken color on hover, fitted */\n",
       "#sk-container-id-1 div.sk-label.fitted:hover label.sk-toggleable__label.fitted {\n",
       "  color: var(--sklearn-color-text);\n",
       "  background-color: var(--sklearn-color-fitted-level-2);\n",
       "}\n",
       "\n",
       "/* Estimator label */\n",
       "\n",
       "#sk-container-id-1 div.sk-label label {\n",
       "  font-family: monospace;\n",
       "  font-weight: bold;\n",
       "  display: inline-block;\n",
       "  line-height: 1.2em;\n",
       "}\n",
       "\n",
       "#sk-container-id-1 div.sk-label-container {\n",
       "  text-align: center;\n",
       "}\n",
       "\n",
       "/* Estimator-specific */\n",
       "#sk-container-id-1 div.sk-estimator {\n",
       "  font-family: monospace;\n",
       "  border: 1px dotted var(--sklearn-color-border-box);\n",
       "  border-radius: 0.25em;\n",
       "  box-sizing: border-box;\n",
       "  margin-bottom: 0.5em;\n",
       "  /* unfitted */\n",
       "  background-color: var(--sklearn-color-unfitted-level-0);\n",
       "}\n",
       "\n",
       "#sk-container-id-1 div.sk-estimator.fitted {\n",
       "  /* fitted */\n",
       "  background-color: var(--sklearn-color-fitted-level-0);\n",
       "}\n",
       "\n",
       "/* on hover */\n",
       "#sk-container-id-1 div.sk-estimator:hover {\n",
       "  /* unfitted */\n",
       "  background-color: var(--sklearn-color-unfitted-level-2);\n",
       "}\n",
       "\n",
       "#sk-container-id-1 div.sk-estimator.fitted:hover {\n",
       "  /* fitted */\n",
       "  background-color: var(--sklearn-color-fitted-level-2);\n",
       "}\n",
       "\n",
       "/* Specification for estimator info (e.g. \"i\" and \"?\") */\n",
       "\n",
       "/* Common style for \"i\" and \"?\" */\n",
       "\n",
       ".sk-estimator-doc-link,\n",
       "a:link.sk-estimator-doc-link,\n",
       "a:visited.sk-estimator-doc-link {\n",
       "  float: right;\n",
       "  font-size: smaller;\n",
       "  line-height: 1em;\n",
       "  font-family: monospace;\n",
       "  background-color: var(--sklearn-color-background);\n",
       "  border-radius: 1em;\n",
       "  height: 1em;\n",
       "  width: 1em;\n",
       "  text-decoration: none !important;\n",
       "  margin-left: 1ex;\n",
       "  /* unfitted */\n",
       "  border: var(--sklearn-color-unfitted-level-1) 1pt solid;\n",
       "  color: var(--sklearn-color-unfitted-level-1);\n",
       "}\n",
       "\n",
       ".sk-estimator-doc-link.fitted,\n",
       "a:link.sk-estimator-doc-link.fitted,\n",
       "a:visited.sk-estimator-doc-link.fitted {\n",
       "  /* fitted */\n",
       "  border: var(--sklearn-color-fitted-level-1) 1pt solid;\n",
       "  color: var(--sklearn-color-fitted-level-1);\n",
       "}\n",
       "\n",
       "/* On hover */\n",
       "div.sk-estimator:hover .sk-estimator-doc-link:hover,\n",
       ".sk-estimator-doc-link:hover,\n",
       "div.sk-label-container:hover .sk-estimator-doc-link:hover,\n",
       ".sk-estimator-doc-link:hover {\n",
       "  /* unfitted */\n",
       "  background-color: var(--sklearn-color-unfitted-level-3);\n",
       "  color: var(--sklearn-color-background);\n",
       "  text-decoration: none;\n",
       "}\n",
       "\n",
       "div.sk-estimator.fitted:hover .sk-estimator-doc-link.fitted:hover,\n",
       ".sk-estimator-doc-link.fitted:hover,\n",
       "div.sk-label-container:hover .sk-estimator-doc-link.fitted:hover,\n",
       ".sk-estimator-doc-link.fitted:hover {\n",
       "  /* fitted */\n",
       "  background-color: var(--sklearn-color-fitted-level-3);\n",
       "  color: var(--sklearn-color-background);\n",
       "  text-decoration: none;\n",
       "}\n",
       "\n",
       "/* Span, style for the box shown on hovering the info icon */\n",
       ".sk-estimator-doc-link span {\n",
       "  display: none;\n",
       "  z-index: 9999;\n",
       "  position: relative;\n",
       "  font-weight: normal;\n",
       "  right: .2ex;\n",
       "  padding: .5ex;\n",
       "  margin: .5ex;\n",
       "  width: min-content;\n",
       "  min-width: 20ex;\n",
       "  max-width: 50ex;\n",
       "  color: var(--sklearn-color-text);\n",
       "  box-shadow: 2pt 2pt 4pt #999;\n",
       "  /* unfitted */\n",
       "  background: var(--sklearn-color-unfitted-level-0);\n",
       "  border: .5pt solid var(--sklearn-color-unfitted-level-3);\n",
       "}\n",
       "\n",
       ".sk-estimator-doc-link.fitted span {\n",
       "  /* fitted */\n",
       "  background: var(--sklearn-color-fitted-level-0);\n",
       "  border: var(--sklearn-color-fitted-level-3);\n",
       "}\n",
       "\n",
       ".sk-estimator-doc-link:hover span {\n",
       "  display: block;\n",
       "}\n",
       "\n",
       "/* \"?\"-specific style due to the `<a>` HTML tag */\n",
       "\n",
       "#sk-container-id-1 a.estimator_doc_link {\n",
       "  float: right;\n",
       "  font-size: 1rem;\n",
       "  line-height: 1em;\n",
       "  font-family: monospace;\n",
       "  background-color: var(--sklearn-color-background);\n",
       "  border-radius: 1rem;\n",
       "  height: 1rem;\n",
       "  width: 1rem;\n",
       "  text-decoration: none;\n",
       "  /* unfitted */\n",
       "  color: var(--sklearn-color-unfitted-level-1);\n",
       "  border: var(--sklearn-color-unfitted-level-1) 1pt solid;\n",
       "}\n",
       "\n",
       "#sk-container-id-1 a.estimator_doc_link.fitted {\n",
       "  /* fitted */\n",
       "  border: var(--sklearn-color-fitted-level-1) 1pt solid;\n",
       "  color: var(--sklearn-color-fitted-level-1);\n",
       "}\n",
       "\n",
       "/* On hover */\n",
       "#sk-container-id-1 a.estimator_doc_link:hover {\n",
       "  /* unfitted */\n",
       "  background-color: var(--sklearn-color-unfitted-level-3);\n",
       "  color: var(--sklearn-color-background);\n",
       "  text-decoration: none;\n",
       "}\n",
       "\n",
       "#sk-container-id-1 a.estimator_doc_link.fitted:hover {\n",
       "  /* fitted */\n",
       "  background-color: var(--sklearn-color-fitted-level-3);\n",
       "}\n",
       "</style><div id=\"sk-container-id-1\" class=\"sk-top-container\"><div class=\"sk-text-repr-fallback\"><pre>XGBClassifier(base_score=None, booster=None, callbacks=None,\n",
       "              colsample_bylevel=None, colsample_bynode=None,\n",
       "              colsample_bytree=None, device=None, early_stopping_rounds=None,\n",
       "              enable_categorical=False, eval_metric=None, feature_types=None,\n",
       "              gamma=None, grow_policy=None, importance_type=None,\n",
       "              interaction_constraints=None, learning_rate=None, max_bin=None,\n",
       "              max_cat_threshold=None, max_cat_to_onehot=None,\n",
       "              max_delta_step=None, max_depth=None, max_leaves=None,\n",
       "              min_child_weight=None, missing=nan, monotone_constraints=None,\n",
       "              multi_strategy=None, n_estimators=None, n_jobs=None,\n",
       "              num_parallel_tree=None, random_state=42, ...)</pre><b>In a Jupyter environment, please rerun this cell to show the HTML representation or trust the notebook. <br />On GitHub, the HTML representation is unable to render, please try loading this page with nbviewer.org.</b></div><div class=\"sk-container\" hidden><div class=\"sk-item\"><div class=\"sk-estimator fitted sk-toggleable\"><input class=\"sk-toggleable__control sk-hidden--visually\" id=\"sk-estimator-id-1\" type=\"checkbox\" checked><label for=\"sk-estimator-id-1\" class=\"sk-toggleable__label fitted sk-toggleable__label-arrow fitted\">&nbsp;XGBClassifier<span class=\"sk-estimator-doc-link fitted\">i<span>Fitted</span></span></label><div class=\"sk-toggleable__content fitted\"><pre>XGBClassifier(base_score=None, booster=None, callbacks=None,\n",
       "              colsample_bylevel=None, colsample_bynode=None,\n",
       "              colsample_bytree=None, device=None, early_stopping_rounds=None,\n",
       "              enable_categorical=False, eval_metric=None, feature_types=None,\n",
       "              gamma=None, grow_policy=None, importance_type=None,\n",
       "              interaction_constraints=None, learning_rate=None, max_bin=None,\n",
       "              max_cat_threshold=None, max_cat_to_onehot=None,\n",
       "              max_delta_step=None, max_depth=None, max_leaves=None,\n",
       "              min_child_weight=None, missing=nan, monotone_constraints=None,\n",
       "              multi_strategy=None, n_estimators=None, n_jobs=None,\n",
       "              num_parallel_tree=None, random_state=42, ...)</pre></div> </div></div></div></div>"
      ],
      "text/plain": [
       "XGBClassifier(base_score=None, booster=None, callbacks=None,\n",
       "              colsample_bylevel=None, colsample_bynode=None,\n",
       "              colsample_bytree=None, device=None, early_stopping_rounds=None,\n",
       "              enable_categorical=False, eval_metric=None, feature_types=None,\n",
       "              gamma=None, grow_policy=None, importance_type=None,\n",
       "              interaction_constraints=None, learning_rate=None, max_bin=None,\n",
       "              max_cat_threshold=None, max_cat_to_onehot=None,\n",
       "              max_delta_step=None, max_depth=None, max_leaves=None,\n",
       "              min_child_weight=None, missing=nan, monotone_constraints=None,\n",
       "              multi_strategy=None, n_estimators=None, n_jobs=None,\n",
       "              num_parallel_tree=None, random_state=42, ...)"
      ]
     },
     "execution_count": 86,
     "metadata": {},
     "output_type": "execute_result"
    }
   ],
   "source": [
    "xgb_model.fit(x_train,y_train)"
   ]
  },
  {
   "cell_type": "code",
   "execution_count": 87,
   "id": "8a60e1bc-d3e3-463e-97d3-f9f32ab66ba3",
   "metadata": {},
   "outputs": [
    {
     "data": {
      "text/plain": [
       "0.9500930894253158"
      ]
     },
     "execution_count": 87,
     "metadata": {},
     "output_type": "execute_result"
    }
   ],
   "source": [
    "xgb_model.score(x_test,y_test)"
   ]
  },
  {
   "cell_type": "code",
   "execution_count": null,
   "id": "e9150b37-f8a3-4505-aaf5-3ac6cec02de9",
   "metadata": {},
   "outputs": [],
   "source": []
  }
 ],
 "metadata": {
  "kernelspec": {
   "display_name": "Python 3 (ipykernel)",
   "language": "python",
   "name": "python3"
  },
  "language_info": {
   "codemirror_mode": {
    "name": "ipython",
    "version": 3
   },
   "file_extension": ".py",
   "mimetype": "text/x-python",
   "name": "python",
   "nbconvert_exporter": "python",
   "pygments_lexer": "ipython3",
   "version": "3.11.7"
  }
 },
 "nbformat": 4,
 "nbformat_minor": 5
}
